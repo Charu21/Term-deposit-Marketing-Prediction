{
 "cells": [
  {
   "cell_type": "code",
   "execution_count": 124,
   "id": "a0a9d989",
   "metadata": {},
   "outputs": [],
   "source": [
    "import numpy as np\n",
    "import pandas as pd\n",
    "import matplotlib.pyplot as plt\n",
    "import seaborn as sns\n",
    "import warnings\n",
    "from sklearn.metrics import classification_report\n",
    "warnings.filterwarnings('ignore')"
   ]
  },
  {
   "cell_type": "code",
   "execution_count": 225,
   "id": "cd7db03c",
   "metadata": {},
   "outputs": [],
   "source": [
    "# Reading the dataset\n",
    "df = pd.read_csv('term-deposit-marketing-2020.csv')"
   ]
  },
  {
   "cell_type": "markdown",
   "id": "718001c7",
   "metadata": {},
   "source": [
    "## Read and inspect the data"
   ]
  },
  {
   "cell_type": "code",
   "execution_count": 126,
   "id": "cea3832c",
   "metadata": {},
   "outputs": [
    {
     "name": "stdout",
     "output_type": "stream",
     "text": [
      "<class 'pandas.core.frame.DataFrame'>\n",
      "RangeIndex: 40000 entries, 0 to 39999\n",
      "Data columns (total 14 columns):\n",
      " #   Column     Non-Null Count  Dtype \n",
      "---  ------     --------------  ----- \n",
      " 0   age        40000 non-null  int64 \n",
      " 1   job        40000 non-null  object\n",
      " 2   marital    40000 non-null  object\n",
      " 3   education  40000 non-null  object\n",
      " 4   default    40000 non-null  object\n",
      " 5   balance    40000 non-null  int64 \n",
      " 6   housing    40000 non-null  object\n",
      " 7   loan       40000 non-null  object\n",
      " 8   contact    40000 non-null  object\n",
      " 9   day        40000 non-null  int64 \n",
      " 10  month      40000 non-null  object\n",
      " 11  duration   40000 non-null  int64 \n",
      " 12  campaign   40000 non-null  int64 \n",
      " 13  y          40000 non-null  object\n",
      "dtypes: int64(5), object(9)\n",
      "memory usage: 4.3+ MB\n"
     ]
    }
   ],
   "source": [
    "# Exploring the data\n",
    "df.info()"
   ]
  },
  {
   "cell_type": "code",
   "execution_count": 127,
   "id": "37a64914",
   "metadata": {},
   "outputs": [
    {
     "data": {
      "text/plain": [
       "(40000, 14)"
      ]
     },
     "execution_count": 127,
     "metadata": {},
     "output_type": "execute_result"
    }
   ],
   "source": [
    "df.shape"
   ]
  },
  {
   "cell_type": "code",
   "execution_count": 128,
   "id": "c092f2b5",
   "metadata": {},
   "outputs": [
    {
     "data": {
      "text/html": [
       "<div>\n",
       "<style scoped>\n",
       "    .dataframe tbody tr th:only-of-type {\n",
       "        vertical-align: middle;\n",
       "    }\n",
       "\n",
       "    .dataframe tbody tr th {\n",
       "        vertical-align: top;\n",
       "    }\n",
       "\n",
       "    .dataframe thead th {\n",
       "        text-align: right;\n",
       "    }\n",
       "</style>\n",
       "<table border=\"1\" class=\"dataframe\">\n",
       "  <thead>\n",
       "    <tr style=\"text-align: right;\">\n",
       "      <th></th>\n",
       "      <th>age</th>\n",
       "      <th>job</th>\n",
       "      <th>marital</th>\n",
       "      <th>education</th>\n",
       "      <th>default</th>\n",
       "      <th>balance</th>\n",
       "      <th>housing</th>\n",
       "      <th>loan</th>\n",
       "      <th>contact</th>\n",
       "      <th>day</th>\n",
       "      <th>month</th>\n",
       "      <th>duration</th>\n",
       "      <th>campaign</th>\n",
       "      <th>y</th>\n",
       "    </tr>\n",
       "  </thead>\n",
       "  <tbody>\n",
       "    <tr>\n",
       "      <th>0</th>\n",
       "      <td>58</td>\n",
       "      <td>management</td>\n",
       "      <td>married</td>\n",
       "      <td>tertiary</td>\n",
       "      <td>no</td>\n",
       "      <td>2143</td>\n",
       "      <td>yes</td>\n",
       "      <td>no</td>\n",
       "      <td>unknown</td>\n",
       "      <td>5</td>\n",
       "      <td>may</td>\n",
       "      <td>261</td>\n",
       "      <td>1</td>\n",
       "      <td>no</td>\n",
       "    </tr>\n",
       "    <tr>\n",
       "      <th>1</th>\n",
       "      <td>44</td>\n",
       "      <td>technician</td>\n",
       "      <td>single</td>\n",
       "      <td>secondary</td>\n",
       "      <td>no</td>\n",
       "      <td>29</td>\n",
       "      <td>yes</td>\n",
       "      <td>no</td>\n",
       "      <td>unknown</td>\n",
       "      <td>5</td>\n",
       "      <td>may</td>\n",
       "      <td>151</td>\n",
       "      <td>1</td>\n",
       "      <td>no</td>\n",
       "    </tr>\n",
       "    <tr>\n",
       "      <th>2</th>\n",
       "      <td>33</td>\n",
       "      <td>entrepreneur</td>\n",
       "      <td>married</td>\n",
       "      <td>secondary</td>\n",
       "      <td>no</td>\n",
       "      <td>2</td>\n",
       "      <td>yes</td>\n",
       "      <td>yes</td>\n",
       "      <td>unknown</td>\n",
       "      <td>5</td>\n",
       "      <td>may</td>\n",
       "      <td>76</td>\n",
       "      <td>1</td>\n",
       "      <td>no</td>\n",
       "    </tr>\n",
       "    <tr>\n",
       "      <th>3</th>\n",
       "      <td>47</td>\n",
       "      <td>blue-collar</td>\n",
       "      <td>married</td>\n",
       "      <td>unknown</td>\n",
       "      <td>no</td>\n",
       "      <td>1506</td>\n",
       "      <td>yes</td>\n",
       "      <td>no</td>\n",
       "      <td>unknown</td>\n",
       "      <td>5</td>\n",
       "      <td>may</td>\n",
       "      <td>92</td>\n",
       "      <td>1</td>\n",
       "      <td>no</td>\n",
       "    </tr>\n",
       "    <tr>\n",
       "      <th>4</th>\n",
       "      <td>33</td>\n",
       "      <td>unknown</td>\n",
       "      <td>single</td>\n",
       "      <td>unknown</td>\n",
       "      <td>no</td>\n",
       "      <td>1</td>\n",
       "      <td>no</td>\n",
       "      <td>no</td>\n",
       "      <td>unknown</td>\n",
       "      <td>5</td>\n",
       "      <td>may</td>\n",
       "      <td>198</td>\n",
       "      <td>1</td>\n",
       "      <td>no</td>\n",
       "    </tr>\n",
       "  </tbody>\n",
       "</table>\n",
       "</div>"
      ],
      "text/plain": [
       "   age           job  marital  education default  balance housing loan  \\\n",
       "0   58    management  married   tertiary      no     2143     yes   no   \n",
       "1   44    technician   single  secondary      no       29     yes   no   \n",
       "2   33  entrepreneur  married  secondary      no        2     yes  yes   \n",
       "3   47   blue-collar  married    unknown      no     1506     yes   no   \n",
       "4   33       unknown   single    unknown      no        1      no   no   \n",
       "\n",
       "   contact  day month  duration  campaign   y  \n",
       "0  unknown    5   may       261         1  no  \n",
       "1  unknown    5   may       151         1  no  \n",
       "2  unknown    5   may        76         1  no  \n",
       "3  unknown    5   may        92         1  no  \n",
       "4  unknown    5   may       198         1  no  "
      ]
     },
     "execution_count": 128,
     "metadata": {},
     "output_type": "execute_result"
    }
   ],
   "source": [
    "df.head()"
   ]
  },
  {
   "cell_type": "code",
   "execution_count": null,
   "id": "1a185e6c",
   "metadata": {},
   "outputs": [],
   "source": []
  },
  {
   "cell_type": "code",
   "execution_count": 129,
   "id": "3a20537c",
   "metadata": {},
   "outputs": [
    {
     "data": {
      "text/plain": [
       "y\n",
       "no     37104\n",
       "yes     2896\n",
       "Name: count, dtype: int64"
      ]
     },
     "execution_count": 129,
     "metadata": {},
     "output_type": "execute_result"
    }
   ],
   "source": [
    "# Checking for data imbalanced or not\n",
    "df['y'].value_counts()"
   ]
  },
  {
   "cell_type": "code",
   "execution_count": 130,
   "id": "1e6a6732",
   "metadata": {},
   "outputs": [
    {
     "data": {
      "text/plain": [
       "<Axes: xlabel='y', ylabel='count'>"
      ]
     },
     "execution_count": 130,
     "metadata": {},
     "output_type": "execute_result"
    },
    {
     "data": {
      "image/png": "[encoded data removed]",
      "text/plain": [
       "<Figure size 640x480 with 1 Axes>"
      ]
     },
     "metadata": {},
     "output_type": "display_data"
    }
   ],
   "source": [
    "sns.countplot(x='y', data=df)"
   ]
  },
  {
   "cell_type": "markdown",
   "id": "409b0adb",
   "metadata": {},
   "source": [
    "The value 'yes' is almost 8% of the entire target variable 'Y' which shows us that the data set is **highly imbalanced**. So, we will be applying suitable sampling techniques after encoding and scaling."
   ]
  },
  {
   "cell_type": "code",
   "execution_count": null,
   "id": "66d684a2",
   "metadata": {},
   "outputs": [],
   "source": []
  },
  {
   "cell_type": "code",
   "execution_count": 131,
   "id": "b8d41e61",
   "metadata": {},
   "outputs": [],
   "source": [
    "## Handling missing data if any"
   ]
  },
  {
   "cell_type": "code",
   "execution_count": 224,
   "id": "bcd57cd8",
   "metadata": {},
   "outputs": [
    {
     "data": {
      "text/plain": [
       "age          0\n",
       "job          0\n",
       "marital      0\n",
       "education    0\n",
       "default      0\n",
       "balance      0\n",
       "housing      0\n",
       "loan         0\n",
       "contact      0\n",
       "day          0\n",
       "month        0\n",
       "duration     0\n",
       "campaign     0\n",
       "y            0\n",
       "dtype: int64"
      ]
     },
     "execution_count": 224,
     "metadata": {},
     "output_type": "execute_result"
    }
   ],
   "source": [
    "df.isnull().sum()"
   ]
  },
  {
   "cell_type": "markdown",
   "id": "97dfd3fd",
   "metadata": {},
   "source": [
    "As no missing data, no imputation needed."
   ]
  },
  {
   "cell_type": "code",
   "execution_count": null,
   "id": "d5a1a235",
   "metadata": {},
   "outputs": [],
   "source": []
  },
  {
   "cell_type": "code",
   "execution_count": 133,
   "id": "00faac0c",
   "metadata": {},
   "outputs": [],
   "source": [
    "target = ['y']\n",
    "X = df[df.columns.difference(target)]\n",
    "y = df[target]"
   ]
  },
  {
   "cell_type": "code",
   "execution_count": 134,
   "id": "66010366",
   "metadata": {},
   "outputs": [
    {
     "data": {
      "text/html": [
       "<div>\n",
       "<style scoped>\n",
       "    .dataframe tbody tr th:only-of-type {\n",
       "        vertical-align: middle;\n",
       "    }\n",
       "\n",
       "    .dataframe tbody tr th {\n",
       "        vertical-align: top;\n",
       "    }\n",
       "\n",
       "    .dataframe thead th {\n",
       "        text-align: right;\n",
       "    }\n",
       "</style>\n",
       "<table border=\"1\" class=\"dataframe\">\n",
       "  <thead>\n",
       "    <tr style=\"text-align: right;\">\n",
       "      <th></th>\n",
       "      <th>age</th>\n",
       "      <th>balance</th>\n",
       "      <th>campaign</th>\n",
       "      <th>contact</th>\n",
       "      <th>day</th>\n",
       "      <th>default</th>\n",
       "      <th>duration</th>\n",
       "      <th>education</th>\n",
       "      <th>housing</th>\n",
       "      <th>job</th>\n",
       "      <th>loan</th>\n",
       "      <th>marital</th>\n",
       "      <th>month</th>\n",
       "    </tr>\n",
       "  </thead>\n",
       "  <tbody>\n",
       "    <tr>\n",
       "      <th>0</th>\n",
       "      <td>58</td>\n",
       "      <td>2143</td>\n",
       "      <td>1</td>\n",
       "      <td>unknown</td>\n",
       "      <td>5</td>\n",
       "      <td>no</td>\n",
       "      <td>261</td>\n",
       "      <td>tertiary</td>\n",
       "      <td>yes</td>\n",
       "      <td>management</td>\n",
       "      <td>no</td>\n",
       "      <td>married</td>\n",
       "      <td>may</td>\n",
       "    </tr>\n",
       "    <tr>\n",
       "      <th>1</th>\n",
       "      <td>44</td>\n",
       "      <td>29</td>\n",
       "      <td>1</td>\n",
       "      <td>unknown</td>\n",
       "      <td>5</td>\n",
       "      <td>no</td>\n",
       "      <td>151</td>\n",
       "      <td>secondary</td>\n",
       "      <td>yes</td>\n",
       "      <td>technician</td>\n",
       "      <td>no</td>\n",
       "      <td>single</td>\n",
       "      <td>may</td>\n",
       "    </tr>\n",
       "    <tr>\n",
       "      <th>2</th>\n",
       "      <td>33</td>\n",
       "      <td>2</td>\n",
       "      <td>1</td>\n",
       "      <td>unknown</td>\n",
       "      <td>5</td>\n",
       "      <td>no</td>\n",
       "      <td>76</td>\n",
       "      <td>secondary</td>\n",
       "      <td>yes</td>\n",
       "      <td>entrepreneur</td>\n",
       "      <td>yes</td>\n",
       "      <td>married</td>\n",
       "      <td>may</td>\n",
       "    </tr>\n",
       "    <tr>\n",
       "      <th>3</th>\n",
       "      <td>47</td>\n",
       "      <td>1506</td>\n",
       "      <td>1</td>\n",
       "      <td>unknown</td>\n",
       "      <td>5</td>\n",
       "      <td>no</td>\n",
       "      <td>92</td>\n",
       "      <td>unknown</td>\n",
       "      <td>yes</td>\n",
       "      <td>blue-collar</td>\n",
       "      <td>no</td>\n",
       "      <td>married</td>\n",
       "      <td>may</td>\n",
       "    </tr>\n",
       "    <tr>\n",
       "      <th>4</th>\n",
       "      <td>33</td>\n",
       "      <td>1</td>\n",
       "      <td>1</td>\n",
       "      <td>unknown</td>\n",
       "      <td>5</td>\n",
       "      <td>no</td>\n",
       "      <td>198</td>\n",
       "      <td>unknown</td>\n",
       "      <td>no</td>\n",
       "      <td>unknown</td>\n",
       "      <td>no</td>\n",
       "      <td>single</td>\n",
       "      <td>may</td>\n",
       "    </tr>\n",
       "  </tbody>\n",
       "</table>\n",
       "</div>"
      ],
      "text/plain": [
       "   age  balance  campaign  contact  day default  duration  education housing  \\\n",
       "0   58     2143         1  unknown    5      no       261   tertiary     yes   \n",
       "1   44       29         1  unknown    5      no       151  secondary     yes   \n",
       "2   33        2         1  unknown    5      no        76  secondary     yes   \n",
       "3   47     1506         1  unknown    5      no        92    unknown     yes   \n",
       "4   33        1         1  unknown    5      no       198    unknown      no   \n",
       "\n",
       "            job loan  marital month  \n",
       "0    management   no  married   may  \n",
       "1    technician   no   single   may  \n",
       "2  entrepreneur  yes  married   may  \n",
       "3   blue-collar   no  married   may  \n",
       "4       unknown   no   single   may  "
      ]
     },
     "execution_count": 134,
     "metadata": {},
     "output_type": "execute_result"
    }
   ],
   "source": [
    "X.head()"
   ]
  },
  {
   "cell_type": "code",
   "execution_count": null,
   "id": "05b4def1",
   "metadata": {},
   "outputs": [],
   "source": []
  },
  {
   "cell_type": "code",
   "execution_count": 135,
   "id": "ce9f01e7",
   "metadata": {},
   "outputs": [
    {
     "data": {
      "text/html": [
       "<div>\n",
       "<style scoped>\n",
       "    .dataframe tbody tr th:only-of-type {\n",
       "        vertical-align: middle;\n",
       "    }\n",
       "\n",
       "    .dataframe tbody tr th {\n",
       "        vertical-align: top;\n",
       "    }\n",
       "\n",
       "    .dataframe thead th {\n",
       "        text-align: right;\n",
       "    }\n",
       "</style>\n",
       "<table border=\"1\" class=\"dataframe\">\n",
       "  <thead>\n",
       "    <tr style=\"text-align: right;\">\n",
       "      <th></th>\n",
       "      <th>y</th>\n",
       "    </tr>\n",
       "  </thead>\n",
       "  <tbody>\n",
       "    <tr>\n",
       "      <th>0</th>\n",
       "      <td>no</td>\n",
       "    </tr>\n",
       "    <tr>\n",
       "      <th>1</th>\n",
       "      <td>no</td>\n",
       "    </tr>\n",
       "    <tr>\n",
       "      <th>2</th>\n",
       "      <td>no</td>\n",
       "    </tr>\n",
       "    <tr>\n",
       "      <th>3</th>\n",
       "      <td>no</td>\n",
       "    </tr>\n",
       "    <tr>\n",
       "      <th>4</th>\n",
       "      <td>no</td>\n",
       "    </tr>\n",
       "  </tbody>\n",
       "</table>\n",
       "</div>"
      ],
      "text/plain": [
       "    y\n",
       "0  no\n",
       "1  no\n",
       "2  no\n",
       "3  no\n",
       "4  no"
      ]
     },
     "execution_count": 135,
     "metadata": {},
     "output_type": "execute_result"
    }
   ],
   "source": [
    "y.head()"
   ]
  },
  {
   "cell_type": "code",
   "execution_count": null,
   "id": "96d57eae",
   "metadata": {},
   "outputs": [],
   "source": []
  },
  {
   "cell_type": "code",
   "execution_count": null,
   "id": "46c505fb",
   "metadata": {},
   "outputs": [],
   "source": []
  },
  {
   "cell_type": "code",
   "execution_count": null,
   "id": "1b61bcb5",
   "metadata": {},
   "outputs": [],
   "source": []
  },
  {
   "cell_type": "markdown",
   "id": "4c897053",
   "metadata": {},
   "source": [
    "## EDA"
   ]
  },
  {
   "cell_type": "markdown",
   "id": "2dc0c9a3",
   "metadata": {},
   "source": [
    "### 1) Data Encoding"
   ]
  },
  {
   "cell_type": "code",
   "execution_count": 136,
   "id": "e62a8570",
   "metadata": {},
   "outputs": [],
   "source": [
    "from sklearn.preprocessing import OneHotEncoder"
   ]
  },
  {
   "cell_type": "code",
   "execution_count": 137,
   "id": "07a0e5b2",
   "metadata": {},
   "outputs": [
    {
     "data": {
      "text/html": [
       "<div>\n",
       "<style scoped>\n",
       "    .dataframe tbody tr th:only-of-type {\n",
       "        vertical-align: middle;\n",
       "    }\n",
       "\n",
       "    .dataframe tbody tr th {\n",
       "        vertical-align: top;\n",
       "    }\n",
       "\n",
       "    .dataframe thead th {\n",
       "        text-align: right;\n",
       "    }\n",
       "</style>\n",
       "<table border=\"1\" class=\"dataframe\">\n",
       "  <thead>\n",
       "    <tr style=\"text-align: right;\">\n",
       "      <th></th>\n",
       "      <th>age</th>\n",
       "      <th>balance</th>\n",
       "      <th>campaign</th>\n",
       "      <th>contact</th>\n",
       "      <th>day</th>\n",
       "      <th>default</th>\n",
       "      <th>duration</th>\n",
       "      <th>education</th>\n",
       "      <th>housing</th>\n",
       "      <th>job</th>\n",
       "      <th>loan</th>\n",
       "      <th>marital</th>\n",
       "      <th>month</th>\n",
       "    </tr>\n",
       "  </thead>\n",
       "  <tbody>\n",
       "    <tr>\n",
       "      <th>0</th>\n",
       "      <td>58</td>\n",
       "      <td>2143</td>\n",
       "      <td>1</td>\n",
       "      <td>unknown</td>\n",
       "      <td>5</td>\n",
       "      <td>no</td>\n",
       "      <td>261</td>\n",
       "      <td>tertiary</td>\n",
       "      <td>yes</td>\n",
       "      <td>management</td>\n",
       "      <td>no</td>\n",
       "      <td>married</td>\n",
       "      <td>may</td>\n",
       "    </tr>\n",
       "    <tr>\n",
       "      <th>1</th>\n",
       "      <td>44</td>\n",
       "      <td>29</td>\n",
       "      <td>1</td>\n",
       "      <td>unknown</td>\n",
       "      <td>5</td>\n",
       "      <td>no</td>\n",
       "      <td>151</td>\n",
       "      <td>secondary</td>\n",
       "      <td>yes</td>\n",
       "      <td>technician</td>\n",
       "      <td>no</td>\n",
       "      <td>single</td>\n",
       "      <td>may</td>\n",
       "    </tr>\n",
       "    <tr>\n",
       "      <th>2</th>\n",
       "      <td>33</td>\n",
       "      <td>2</td>\n",
       "      <td>1</td>\n",
       "      <td>unknown</td>\n",
       "      <td>5</td>\n",
       "      <td>no</td>\n",
       "      <td>76</td>\n",
       "      <td>secondary</td>\n",
       "      <td>yes</td>\n",
       "      <td>entrepreneur</td>\n",
       "      <td>yes</td>\n",
       "      <td>married</td>\n",
       "      <td>may</td>\n",
       "    </tr>\n",
       "    <tr>\n",
       "      <th>3</th>\n",
       "      <td>47</td>\n",
       "      <td>1506</td>\n",
       "      <td>1</td>\n",
       "      <td>unknown</td>\n",
       "      <td>5</td>\n",
       "      <td>no</td>\n",
       "      <td>92</td>\n",
       "      <td>unknown</td>\n",
       "      <td>yes</td>\n",
       "      <td>blue-collar</td>\n",
       "      <td>no</td>\n",
       "      <td>married</td>\n",
       "      <td>may</td>\n",
       "    </tr>\n",
       "    <tr>\n",
       "      <th>4</th>\n",
       "      <td>33</td>\n",
       "      <td>1</td>\n",
       "      <td>1</td>\n",
       "      <td>unknown</td>\n",
       "      <td>5</td>\n",
       "      <td>no</td>\n",
       "      <td>198</td>\n",
       "      <td>unknown</td>\n",
       "      <td>no</td>\n",
       "      <td>unknown</td>\n",
       "      <td>no</td>\n",
       "      <td>single</td>\n",
       "      <td>may</td>\n",
       "    </tr>\n",
       "  </tbody>\n",
       "</table>\n",
       "</div>"
      ],
      "text/plain": [
       "   age  balance  campaign  contact  day default  duration  education housing  \\\n",
       "0   58     2143         1  unknown    5      no       261   tertiary     yes   \n",
       "1   44       29         1  unknown    5      no       151  secondary     yes   \n",
       "2   33        2         1  unknown    5      no        76  secondary     yes   \n",
       "3   47     1506         1  unknown    5      no        92    unknown     yes   \n",
       "4   33        1         1  unknown    5      no       198    unknown      no   \n",
       "\n",
       "            job loan  marital month  \n",
       "0    management   no  married   may  \n",
       "1    technician   no   single   may  \n",
       "2  entrepreneur  yes  married   may  \n",
       "3   blue-collar   no  married   may  \n",
       "4       unknown   no   single   may  "
      ]
     },
     "execution_count": 137,
     "metadata": {},
     "output_type": "execute_result"
    }
   ],
   "source": [
    "X.head()"
   ]
  },
  {
   "cell_type": "code",
   "execution_count": null,
   "id": "40db4713",
   "metadata": {},
   "outputs": [],
   "source": []
  },
  {
   "cell_type": "markdown",
   "id": "ac993c20",
   "metadata": {},
   "source": [
    "#### a) Starting with contact"
   ]
  },
  {
   "cell_type": "code",
   "execution_count": 138,
   "id": "0dae314d",
   "metadata": {},
   "outputs": [
    {
     "data": {
      "text/plain": [
       "<Axes: ylabel='count'>"
      ]
     },
     "execution_count": 138,
     "metadata": {},
     "output_type": "execute_result"
    },
    {
     "data": {
      "image/png": "[encoded data removed]",
      "text/plain": [
       "<Figure size 640x480 with 1 Axes>"
      ]
     },
     "metadata": {},
     "output_type": "display_data"
    }
   ],
   "source": [
    "X['contact'].value_counts().plot.pie(autopct='%.2f')"
   ]
  },
  {
   "cell_type": "code",
   "execution_count": 139,
   "id": "429069ff",
   "metadata": {},
   "outputs": [
    {
     "data": {
      "text/plain": [
       "array(['unknown', 'cellular', 'telephone'], dtype=object)"
      ]
     },
     "execution_count": 139,
     "metadata": {},
     "output_type": "execute_result"
    }
   ],
   "source": [
    "X['contact'].unique()"
   ]
  },
  {
   "cell_type": "markdown",
   "id": "2a0d03c0",
   "metadata": {},
   "source": [
    "Here we see that the feature 'contact' is a nominal categorical variable. So we can go ahead with One hot encoding as only 2 columns can be used to represent all values"
   ]
  },
  {
   "cell_type": "code",
   "execution_count": null,
   "id": "337f86da",
   "metadata": {},
   "outputs": [],
   "source": []
  },
  {
   "cell_type": "code",
   "execution_count": 140,
   "id": "5a6b9571",
   "metadata": {},
   "outputs": [],
   "source": [
    "## Making a function to handle all categorical feature encodings\n",
    "def encode_and_concat(original_df, feature_to_encode):\n",
    "    dummies = pd.get_dummies(original_df[[feature_to_encode]], drop_first=False, dtype=int)\n",
    "    result = pd.concat([original_df, dummies], axis=1).drop([feature_to_encode], axis=1)\n",
    "    return(result)"
   ]
  },
  {
   "cell_type": "code",
   "execution_count": 141,
   "id": "d567f80e",
   "metadata": {},
   "outputs": [],
   "source": [
    "X = encode_and_concat(X, 'contact')"
   ]
  },
  {
   "cell_type": "code",
   "execution_count": 142,
   "id": "ac889a4e",
   "metadata": {},
   "outputs": [
    {
     "data": {
      "text/html": [
       "<div>\n",
       "<style scoped>\n",
       "    .dataframe tbody tr th:only-of-type {\n",
       "        vertical-align: middle;\n",
       "    }\n",
       "\n",
       "    .dataframe tbody tr th {\n",
       "        vertical-align: top;\n",
       "    }\n",
       "\n",
       "    .dataframe thead th {\n",
       "        text-align: right;\n",
       "    }\n",
       "</style>\n",
       "<table border=\"1\" class=\"dataframe\">\n",
       "  <thead>\n",
       "    <tr style=\"text-align: right;\">\n",
       "      <th></th>\n",
       "      <th>age</th>\n",
       "      <th>balance</th>\n",
       "      <th>campaign</th>\n",
       "      <th>day</th>\n",
       "      <th>default</th>\n",
       "      <th>duration</th>\n",
       "      <th>education</th>\n",
       "      <th>housing</th>\n",
       "      <th>job</th>\n",
       "      <th>loan</th>\n",
       "      <th>marital</th>\n",
       "      <th>month</th>\n",
       "      <th>contact_cellular</th>\n",
       "      <th>contact_telephone</th>\n",
       "      <th>contact_unknown</th>\n",
       "    </tr>\n",
       "  </thead>\n",
       "  <tbody>\n",
       "    <tr>\n",
       "      <th>0</th>\n",
       "      <td>58</td>\n",
       "      <td>2143</td>\n",
       "      <td>1</td>\n",
       "      <td>5</td>\n",
       "      <td>no</td>\n",
       "      <td>261</td>\n",
       "      <td>tertiary</td>\n",
       "      <td>yes</td>\n",
       "      <td>management</td>\n",
       "      <td>no</td>\n",
       "      <td>married</td>\n",
       "      <td>may</td>\n",
       "      <td>0</td>\n",
       "      <td>0</td>\n",
       "      <td>1</td>\n",
       "    </tr>\n",
       "    <tr>\n",
       "      <th>1</th>\n",
       "      <td>44</td>\n",
       "      <td>29</td>\n",
       "      <td>1</td>\n",
       "      <td>5</td>\n",
       "      <td>no</td>\n",
       "      <td>151</td>\n",
       "      <td>secondary</td>\n",
       "      <td>yes</td>\n",
       "      <td>technician</td>\n",
       "      <td>no</td>\n",
       "      <td>single</td>\n",
       "      <td>may</td>\n",
       "      <td>0</td>\n",
       "      <td>0</td>\n",
       "      <td>1</td>\n",
       "    </tr>\n",
       "    <tr>\n",
       "      <th>2</th>\n",
       "      <td>33</td>\n",
       "      <td>2</td>\n",
       "      <td>1</td>\n",
       "      <td>5</td>\n",
       "      <td>no</td>\n",
       "      <td>76</td>\n",
       "      <td>secondary</td>\n",
       "      <td>yes</td>\n",
       "      <td>entrepreneur</td>\n",
       "      <td>yes</td>\n",
       "      <td>married</td>\n",
       "      <td>may</td>\n",
       "      <td>0</td>\n",
       "      <td>0</td>\n",
       "      <td>1</td>\n",
       "    </tr>\n",
       "    <tr>\n",
       "      <th>3</th>\n",
       "      <td>47</td>\n",
       "      <td>1506</td>\n",
       "      <td>1</td>\n",
       "      <td>5</td>\n",
       "      <td>no</td>\n",
       "      <td>92</td>\n",
       "      <td>unknown</td>\n",
       "      <td>yes</td>\n",
       "      <td>blue-collar</td>\n",
       "      <td>no</td>\n",
       "      <td>married</td>\n",
       "      <td>may</td>\n",
       "      <td>0</td>\n",
       "      <td>0</td>\n",
       "      <td>1</td>\n",
       "    </tr>\n",
       "    <tr>\n",
       "      <th>4</th>\n",
       "      <td>33</td>\n",
       "      <td>1</td>\n",
       "      <td>1</td>\n",
       "      <td>5</td>\n",
       "      <td>no</td>\n",
       "      <td>198</td>\n",
       "      <td>unknown</td>\n",
       "      <td>no</td>\n",
       "      <td>unknown</td>\n",
       "      <td>no</td>\n",
       "      <td>single</td>\n",
       "      <td>may</td>\n",
       "      <td>0</td>\n",
       "      <td>0</td>\n",
       "      <td>1</td>\n",
       "    </tr>\n",
       "  </tbody>\n",
       "</table>\n",
       "</div>"
      ],
      "text/plain": [
       "   age  balance  campaign  day default  duration  education housing  \\\n",
       "0   58     2143         1    5      no       261   tertiary     yes   \n",
       "1   44       29         1    5      no       151  secondary     yes   \n",
       "2   33        2         1    5      no        76  secondary     yes   \n",
       "3   47     1506         1    5      no        92    unknown     yes   \n",
       "4   33        1         1    5      no       198    unknown      no   \n",
       "\n",
       "            job loan  marital month  contact_cellular  contact_telephone  \\\n",
       "0    management   no  married   may                 0                  0   \n",
       "1    technician   no   single   may                 0                  0   \n",
       "2  entrepreneur  yes  married   may                 0                  0   \n",
       "3   blue-collar   no  married   may                 0                  0   \n",
       "4       unknown   no   single   may                 0                  0   \n",
       "\n",
       "   contact_unknown  \n",
       "0                1  \n",
       "1                1  \n",
       "2                1  \n",
       "3                1  \n",
       "4                1  "
      ]
     },
     "execution_count": 142,
     "metadata": {},
     "output_type": "execute_result"
    }
   ],
   "source": [
    "X.head()"
   ]
  },
  {
   "cell_type": "code",
   "execution_count": 143,
   "id": "e62ea744",
   "metadata": {},
   "outputs": [
    {
     "data": {
      "text/plain": [
       "contact_cellular\n",
       "1    24914\n",
       "0    15086\n",
       "Name: count, dtype: int64"
      ]
     },
     "execution_count": 143,
     "metadata": {},
     "output_type": "execute_result"
    }
   ],
   "source": [
    "X['contact_cellular'].value_counts()"
   ]
  },
  {
   "cell_type": "code",
   "execution_count": 144,
   "id": "131714f7",
   "metadata": {},
   "outputs": [
    {
     "data": {
      "text/plain": [
       "contact_telephone\n",
       "0    37679\n",
       "1     2321\n",
       "Name: count, dtype: int64"
      ]
     },
     "execution_count": 144,
     "metadata": {},
     "output_type": "execute_result"
    }
   ],
   "source": [
    "X['contact_telephone'].value_counts()"
   ]
  },
  {
   "cell_type": "code",
   "execution_count": 145,
   "id": "275f56ff",
   "metadata": {},
   "outputs": [
    {
     "data": {
      "text/plain": [
       "contact_unknown\n",
       "0    27235\n",
       "1    12765\n",
       "Name: count, dtype: int64"
      ]
     },
     "execution_count": 145,
     "metadata": {},
     "output_type": "execute_result"
    }
   ],
   "source": [
    "X['contact_unknown'].value_counts()"
   ]
  },
  {
   "cell_type": "code",
   "execution_count": null,
   "id": "b2c35d6d",
   "metadata": {},
   "outputs": [],
   "source": []
  },
  {
   "cell_type": "code",
   "execution_count": null,
   "id": "cf75c607",
   "metadata": {},
   "outputs": [],
   "source": []
  },
  {
   "cell_type": "markdown",
   "id": "85b10a96",
   "metadata": {},
   "source": [
    "#### 2) default "
   ]
  },
  {
   "cell_type": "markdown",
   "id": "21dd2371",
   "metadata": {},
   "source": [
    "Binary variable so converting False to 0 and True to 1"
   ]
  },
  {
   "cell_type": "code",
   "execution_count": 146,
   "id": "19a8b214",
   "metadata": {},
   "outputs": [
    {
     "data": {
      "text/plain": [
       "<Axes: ylabel='count'>"
      ]
     },
     "execution_count": 146,
     "metadata": {},
     "output_type": "execute_result"
    },
    {
     "data": {
      "image/png": "[encoded data removed]",
      "text/plain": [
       "<Figure size 640x480 with 1 Axes>"
      ]
     },
     "metadata": {},
     "output_type": "display_data"
    }
   ],
   "source": [
    "X['default'].value_counts().plot.pie(autopct='%.2f')"
   ]
  },
  {
   "cell_type": "code",
   "execution_count": 147,
   "id": "f6c602b9",
   "metadata": {},
   "outputs": [
    {
     "data": {
      "text/plain": [
       "default\n",
       "no     39191\n",
       "yes      809\n",
       "Name: count, dtype: int64"
      ]
     },
     "execution_count": 147,
     "metadata": {},
     "output_type": "execute_result"
    }
   ],
   "source": [
    "X['default'].value_counts()"
   ]
  },
  {
   "cell_type": "code",
   "execution_count": 148,
   "id": "60d87514",
   "metadata": {},
   "outputs": [],
   "source": [
    "X['default'] = X['default'].map({'yes':1, 'no':0})"
   ]
  },
  {
   "cell_type": "code",
   "execution_count": 149,
   "id": "ff99f260",
   "metadata": {},
   "outputs": [
    {
     "data": {
      "text/html": [
       "<div>\n",
       "<style scoped>\n",
       "    .dataframe tbody tr th:only-of-type {\n",
       "        vertical-align: middle;\n",
       "    }\n",
       "\n",
       "    .dataframe tbody tr th {\n",
       "        vertical-align: top;\n",
       "    }\n",
       "\n",
       "    .dataframe thead th {\n",
       "        text-align: right;\n",
       "    }\n",
       "</style>\n",
       "<table border=\"1\" class=\"dataframe\">\n",
       "  <thead>\n",
       "    <tr style=\"text-align: right;\">\n",
       "      <th></th>\n",
       "      <th>age</th>\n",
       "      <th>balance</th>\n",
       "      <th>campaign</th>\n",
       "      <th>day</th>\n",
       "      <th>default</th>\n",
       "      <th>duration</th>\n",
       "      <th>education</th>\n",
       "      <th>housing</th>\n",
       "      <th>job</th>\n",
       "      <th>loan</th>\n",
       "      <th>marital</th>\n",
       "      <th>month</th>\n",
       "      <th>contact_cellular</th>\n",
       "      <th>contact_telephone</th>\n",
       "      <th>contact_unknown</th>\n",
       "    </tr>\n",
       "  </thead>\n",
       "  <tbody>\n",
       "    <tr>\n",
       "      <th>0</th>\n",
       "      <td>58</td>\n",
       "      <td>2143</td>\n",
       "      <td>1</td>\n",
       "      <td>5</td>\n",
       "      <td>0</td>\n",
       "      <td>261</td>\n",
       "      <td>tertiary</td>\n",
       "      <td>yes</td>\n",
       "      <td>management</td>\n",
       "      <td>no</td>\n",
       "      <td>married</td>\n",
       "      <td>may</td>\n",
       "      <td>0</td>\n",
       "      <td>0</td>\n",
       "      <td>1</td>\n",
       "    </tr>\n",
       "    <tr>\n",
       "      <th>1</th>\n",
       "      <td>44</td>\n",
       "      <td>29</td>\n",
       "      <td>1</td>\n",
       "      <td>5</td>\n",
       "      <td>0</td>\n",
       "      <td>151</td>\n",
       "      <td>secondary</td>\n",
       "      <td>yes</td>\n",
       "      <td>technician</td>\n",
       "      <td>no</td>\n",
       "      <td>single</td>\n",
       "      <td>may</td>\n",
       "      <td>0</td>\n",
       "      <td>0</td>\n",
       "      <td>1</td>\n",
       "    </tr>\n",
       "    <tr>\n",
       "      <th>2</th>\n",
       "      <td>33</td>\n",
       "      <td>2</td>\n",
       "      <td>1</td>\n",
       "      <td>5</td>\n",
       "      <td>0</td>\n",
       "      <td>76</td>\n",
       "      <td>secondary</td>\n",
       "      <td>yes</td>\n",
       "      <td>entrepreneur</td>\n",
       "      <td>yes</td>\n",
       "      <td>married</td>\n",
       "      <td>may</td>\n",
       "      <td>0</td>\n",
       "      <td>0</td>\n",
       "      <td>1</td>\n",
       "    </tr>\n",
       "    <tr>\n",
       "      <th>3</th>\n",
       "      <td>47</td>\n",
       "      <td>1506</td>\n",
       "      <td>1</td>\n",
       "      <td>5</td>\n",
       "      <td>0</td>\n",
       "      <td>92</td>\n",
       "      <td>unknown</td>\n",
       "      <td>yes</td>\n",
       "      <td>blue-collar</td>\n",
       "      <td>no</td>\n",
       "      <td>married</td>\n",
       "      <td>may</td>\n",
       "      <td>0</td>\n",
       "      <td>0</td>\n",
       "      <td>1</td>\n",
       "    </tr>\n",
       "    <tr>\n",
       "      <th>4</th>\n",
       "      <td>33</td>\n",
       "      <td>1</td>\n",
       "      <td>1</td>\n",
       "      <td>5</td>\n",
       "      <td>0</td>\n",
       "      <td>198</td>\n",
       "      <td>unknown</td>\n",
       "      <td>no</td>\n",
       "      <td>unknown</td>\n",
       "      <td>no</td>\n",
       "      <td>single</td>\n",
       "      <td>may</td>\n",
       "      <td>0</td>\n",
       "      <td>0</td>\n",
       "      <td>1</td>\n",
       "    </tr>\n",
       "  </tbody>\n",
       "</table>\n",
       "</div>"
      ],
      "text/plain": [
       "   age  balance  campaign  day  default  duration  education housing  \\\n",
       "0   58     2143         1    5        0       261   tertiary     yes   \n",
       "1   44       29         1    5        0       151  secondary     yes   \n",
       "2   33        2         1    5        0        76  secondary     yes   \n",
       "3   47     1506         1    5        0        92    unknown     yes   \n",
       "4   33        1         1    5        0       198    unknown      no   \n",
       "\n",
       "            job loan  marital month  contact_cellular  contact_telephone  \\\n",
       "0    management   no  married   may                 0                  0   \n",
       "1    technician   no   single   may                 0                  0   \n",
       "2  entrepreneur  yes  married   may                 0                  0   \n",
       "3   blue-collar   no  married   may                 0                  0   \n",
       "4       unknown   no   single   may                 0                  0   \n",
       "\n",
       "   contact_unknown  \n",
       "0                1  \n",
       "1                1  \n",
       "2                1  \n",
       "3                1  \n",
       "4                1  "
      ]
     },
     "execution_count": 149,
     "metadata": {},
     "output_type": "execute_result"
    }
   ],
   "source": [
    "X.head()"
   ]
  },
  {
   "cell_type": "code",
   "execution_count": 150,
   "id": "c86d3793",
   "metadata": {},
   "outputs": [
    {
     "data": {
      "text/plain": [
       "default\n",
       "0    39191\n",
       "1      809\n",
       "Name: count, dtype: int64"
      ]
     },
     "execution_count": 150,
     "metadata": {},
     "output_type": "execute_result"
    }
   ],
   "source": [
    "X['default'].value_counts()"
   ]
  },
  {
   "cell_type": "code",
   "execution_count": null,
   "id": "471cb9bd",
   "metadata": {},
   "outputs": [],
   "source": []
  },
  {
   "cell_type": "markdown",
   "id": "b4f59fd6",
   "metadata": {},
   "source": [
    "#### 3) Education "
   ]
  },
  {
   "cell_type": "markdown",
   "id": "06b43594",
   "metadata": {},
   "source": [
    "Ordinal categorical variable so will be using Label Encoding "
   ]
  },
  {
   "cell_type": "code",
   "execution_count": 151,
   "id": "bf779a41",
   "metadata": {},
   "outputs": [],
   "source": [
    "from sklearn.preprocessing import LabelEncoder\n",
    "le_encoder = LabelEncoder()"
   ]
  },
  {
   "cell_type": "code",
   "execution_count": 152,
   "id": "e2138e9d",
   "metadata": {},
   "outputs": [],
   "source": [
    "X['education'] = le_encoder.fit(X['education']).transform(X['education'])"
   ]
  },
  {
   "cell_type": "code",
   "execution_count": 153,
   "id": "b2347634",
   "metadata": {},
   "outputs": [
    {
     "data": {
      "text/plain": [
       "education\n",
       "1    20993\n",
       "2    11206\n",
       "0     6270\n",
       "3     1531\n",
       "Name: count, dtype: int64"
      ]
     },
     "execution_count": 153,
     "metadata": {},
     "output_type": "execute_result"
    }
   ],
   "source": [
    "X['education'].value_counts()"
   ]
  },
  {
   "cell_type": "code",
   "execution_count": 154,
   "id": "9714992d",
   "metadata": {},
   "outputs": [
    {
     "data": {
      "text/plain": [
       "<Axes: ylabel='count'>"
      ]
     },
     "execution_count": 154,
     "metadata": {},
     "output_type": "execute_result"
    },
    {
     "data": {
      "image/png": "[encoded data removed]",
      "text/plain": [
       "<Figure size 640x480 with 1 Axes>"
      ]
     },
     "metadata": {},
     "output_type": "display_data"
    }
   ],
   "source": [
    "X['education'].value_counts().plot.pie(autopct='%.2f')"
   ]
  },
  {
   "cell_type": "code",
   "execution_count": 155,
   "id": "a2c5f235",
   "metadata": {},
   "outputs": [
    {
     "data": {
      "text/html": [
       "<div>\n",
       "<style scoped>\n",
       "    .dataframe tbody tr th:only-of-type {\n",
       "        vertical-align: middle;\n",
       "    }\n",
       "\n",
       "    .dataframe tbody tr th {\n",
       "        vertical-align: top;\n",
       "    }\n",
       "\n",
       "    .dataframe thead th {\n",
       "        text-align: right;\n",
       "    }\n",
       "</style>\n",
       "<table border=\"1\" class=\"dataframe\">\n",
       "  <thead>\n",
       "    <tr style=\"text-align: right;\">\n",
       "      <th></th>\n",
       "      <th>age</th>\n",
       "      <th>balance</th>\n",
       "      <th>campaign</th>\n",
       "      <th>day</th>\n",
       "      <th>default</th>\n",
       "      <th>duration</th>\n",
       "      <th>education</th>\n",
       "      <th>housing</th>\n",
       "      <th>job</th>\n",
       "      <th>loan</th>\n",
       "      <th>marital</th>\n",
       "      <th>month</th>\n",
       "      <th>contact_cellular</th>\n",
       "      <th>contact_telephone</th>\n",
       "      <th>contact_unknown</th>\n",
       "    </tr>\n",
       "  </thead>\n",
       "  <tbody>\n",
       "    <tr>\n",
       "      <th>0</th>\n",
       "      <td>58</td>\n",
       "      <td>2143</td>\n",
       "      <td>1</td>\n",
       "      <td>5</td>\n",
       "      <td>0</td>\n",
       "      <td>261</td>\n",
       "      <td>2</td>\n",
       "      <td>yes</td>\n",
       "      <td>management</td>\n",
       "      <td>no</td>\n",
       "      <td>married</td>\n",
       "      <td>may</td>\n",
       "      <td>0</td>\n",
       "      <td>0</td>\n",
       "      <td>1</td>\n",
       "    </tr>\n",
       "    <tr>\n",
       "      <th>1</th>\n",
       "      <td>44</td>\n",
       "      <td>29</td>\n",
       "      <td>1</td>\n",
       "      <td>5</td>\n",
       "      <td>0</td>\n",
       "      <td>151</td>\n",
       "      <td>1</td>\n",
       "      <td>yes</td>\n",
       "      <td>technician</td>\n",
       "      <td>no</td>\n",
       "      <td>single</td>\n",
       "      <td>may</td>\n",
       "      <td>0</td>\n",
       "      <td>0</td>\n",
       "      <td>1</td>\n",
       "    </tr>\n",
       "    <tr>\n",
       "      <th>2</th>\n",
       "      <td>33</td>\n",
       "      <td>2</td>\n",
       "      <td>1</td>\n",
       "      <td>5</td>\n",
       "      <td>0</td>\n",
       "      <td>76</td>\n",
       "      <td>1</td>\n",
       "      <td>yes</td>\n",
       "      <td>entrepreneur</td>\n",
       "      <td>yes</td>\n",
       "      <td>married</td>\n",
       "      <td>may</td>\n",
       "      <td>0</td>\n",
       "      <td>0</td>\n",
       "      <td>1</td>\n",
       "    </tr>\n",
       "    <tr>\n",
       "      <th>3</th>\n",
       "      <td>47</td>\n",
       "      <td>1506</td>\n",
       "      <td>1</td>\n",
       "      <td>5</td>\n",
       "      <td>0</td>\n",
       "      <td>92</td>\n",
       "      <td>3</td>\n",
       "      <td>yes</td>\n",
       "      <td>blue-collar</td>\n",
       "      <td>no</td>\n",
       "      <td>married</td>\n",
       "      <td>may</td>\n",
       "      <td>0</td>\n",
       "      <td>0</td>\n",
       "      <td>1</td>\n",
       "    </tr>\n",
       "    <tr>\n",
       "      <th>4</th>\n",
       "      <td>33</td>\n",
       "      <td>1</td>\n",
       "      <td>1</td>\n",
       "      <td>5</td>\n",
       "      <td>0</td>\n",
       "      <td>198</td>\n",
       "      <td>3</td>\n",
       "      <td>no</td>\n",
       "      <td>unknown</td>\n",
       "      <td>no</td>\n",
       "      <td>single</td>\n",
       "      <td>may</td>\n",
       "      <td>0</td>\n",
       "      <td>0</td>\n",
       "      <td>1</td>\n",
       "    </tr>\n",
       "  </tbody>\n",
       "</table>\n",
       "</div>"
      ],
      "text/plain": [
       "   age  balance  campaign  day  default  duration  education housing  \\\n",
       "0   58     2143         1    5        0       261          2     yes   \n",
       "1   44       29         1    5        0       151          1     yes   \n",
       "2   33        2         1    5        0        76          1     yes   \n",
       "3   47     1506         1    5        0        92          3     yes   \n",
       "4   33        1         1    5        0       198          3      no   \n",
       "\n",
       "            job loan  marital month  contact_cellular  contact_telephone  \\\n",
       "0    management   no  married   may                 0                  0   \n",
       "1    technician   no   single   may                 0                  0   \n",
       "2  entrepreneur  yes  married   may                 0                  0   \n",
       "3   blue-collar   no  married   may                 0                  0   \n",
       "4       unknown   no   single   may                 0                  0   \n",
       "\n",
       "   contact_unknown  \n",
       "0                1  \n",
       "1                1  \n",
       "2                1  \n",
       "3                1  \n",
       "4                1  "
      ]
     },
     "execution_count": 155,
     "metadata": {},
     "output_type": "execute_result"
    }
   ],
   "source": [
    "X.head()"
   ]
  },
  {
   "cell_type": "code",
   "execution_count": 156,
   "id": "d82b4106",
   "metadata": {},
   "outputs": [
    {
     "data": {
      "text/plain": [
       "education\n",
       "1    20993\n",
       "2    11206\n",
       "0     6270\n",
       "3     1531\n",
       "Name: count, dtype: int64"
      ]
     },
     "execution_count": 156,
     "metadata": {},
     "output_type": "execute_result"
    }
   ],
   "source": [
    "X['education'].value_counts()"
   ]
  },
  {
   "cell_type": "code",
   "execution_count": null,
   "id": "1ba99814",
   "metadata": {},
   "outputs": [],
   "source": []
  },
  {
   "cell_type": "markdown",
   "id": "a609cd46",
   "metadata": {},
   "source": [
    "#### 4) housing "
   ]
  },
  {
   "cell_type": "markdown",
   "id": "798a190c",
   "metadata": {},
   "source": [
    "Binary variable so converting no to 0 and yes to 1"
   ]
  },
  {
   "cell_type": "code",
   "execution_count": 157,
   "id": "0175e3dc",
   "metadata": {},
   "outputs": [
    {
     "data": {
      "text/plain": [
       "housing\n",
       "yes    24031\n",
       "no     15969\n",
       "Name: count, dtype: int64"
      ]
     },
     "execution_count": 157,
     "metadata": {},
     "output_type": "execute_result"
    }
   ],
   "source": [
    "X['housing'].value_counts()"
   ]
  },
  {
   "cell_type": "code",
   "execution_count": 158,
   "id": "eec943e4",
   "metadata": {},
   "outputs": [
    {
     "data": {
      "text/plain": [
       "<Axes: ylabel='count'>"
      ]
     },
     "execution_count": 158,
     "metadata": {},
     "output_type": "execute_result"
    },
    {
     "data": {
      "image/png": "[encoded data removed]",
      "text/plain": [
       "<Figure size 640x480 with 1 Axes>"
      ]
     },
     "metadata": {},
     "output_type": "display_data"
    }
   ],
   "source": [
    "X['housing'].value_counts().plot.pie(autopct='%.2f')"
   ]
  },
  {
   "cell_type": "code",
   "execution_count": 159,
   "id": "72ec756c",
   "metadata": {},
   "outputs": [],
   "source": [
    "X['housing'] = X['housing'].map({'yes':1, 'no':0})"
   ]
  },
  {
   "cell_type": "code",
   "execution_count": 160,
   "id": "05561a72",
   "metadata": {},
   "outputs": [
    {
     "data": {
      "text/plain": [
       "housing\n",
       "1    24031\n",
       "0    15969\n",
       "Name: count, dtype: int64"
      ]
     },
     "execution_count": 160,
     "metadata": {},
     "output_type": "execute_result"
    }
   ],
   "source": [
    "X['housing'].value_counts()"
   ]
  },
  {
   "cell_type": "code",
   "execution_count": null,
   "id": "d936cd6e",
   "metadata": {},
   "outputs": [],
   "source": []
  },
  {
   "cell_type": "markdown",
   "id": "cbd6c436",
   "metadata": {},
   "source": [
    "#### 4) job "
   ]
  },
  {
   "cell_type": "markdown",
   "id": "b6db7f99",
   "metadata": {},
   "source": [
    "Ordinal categorical variable so will be using Label Encoding "
   ]
  },
  {
   "cell_type": "code",
   "execution_count": 161,
   "id": "c467b66b",
   "metadata": {},
   "outputs": [
    {
     "data": {
      "text/plain": [
       "job\n",
       "blue-collar      9383\n",
       "management       8166\n",
       "technician       6852\n",
       "admin            4483\n",
       "services         3910\n",
       "retired          1437\n",
       "self-employed    1414\n",
       "entrepreneur     1405\n",
       "unemployed       1104\n",
       "housemaid        1087\n",
       "student           524\n",
       "unknown           235\n",
       "Name: count, dtype: int64"
      ]
     },
     "execution_count": 161,
     "metadata": {},
     "output_type": "execute_result"
    }
   ],
   "source": [
    "X['job'].value_counts()"
   ]
  },
  {
   "cell_type": "code",
   "execution_count": 162,
   "id": "9aaf5792",
   "metadata": {},
   "outputs": [
    {
     "data": {
      "text/plain": [
       "<Axes: ylabel='count'>"
      ]
     },
     "execution_count": 162,
     "metadata": {},
     "output_type": "execute_result"
    },
    {
     "data": {
      "image/png": "[encoded data removed]",
      "text/plain": [
       "<Figure size 640x480 with 1 Axes>"
      ]
     },
     "metadata": {},
     "output_type": "display_data"
    }
   ],
   "source": [
    "X['job'].value_counts().plot.pie(autopct='%.2f')"
   ]
  },
  {
   "cell_type": "code",
   "execution_count": 163,
   "id": "d410c75e",
   "metadata": {},
   "outputs": [],
   "source": [
    "X['job'] = le_encoder.fit(X['job']).transform(X['job'])"
   ]
  },
  {
   "cell_type": "code",
   "execution_count": 164,
   "id": "430a1e52",
   "metadata": {},
   "outputs": [
    {
     "data": {
      "text/plain": [
       "job\n",
       "1     9383\n",
       "4     8166\n",
       "9     6852\n",
       "0     4483\n",
       "7     3910\n",
       "5     1437\n",
       "6     1414\n",
       "2     1405\n",
       "10    1104\n",
       "3     1087\n",
       "8      524\n",
       "11     235\n",
       "Name: count, dtype: int64"
      ]
     },
     "execution_count": 164,
     "metadata": {},
     "output_type": "execute_result"
    }
   ],
   "source": [
    "X['job'].value_counts()"
   ]
  },
  {
   "cell_type": "code",
   "execution_count": null,
   "id": "44a9e920",
   "metadata": {},
   "outputs": [],
   "source": []
  },
  {
   "cell_type": "markdown",
   "id": "3372c162",
   "metadata": {},
   "source": [
    "#### 5) loan"
   ]
  },
  {
   "cell_type": "markdown",
   "id": "d0088f79",
   "metadata": {},
   "source": [
    "Binary variable so converting no to 0 and yes to 1"
   ]
  },
  {
   "cell_type": "code",
   "execution_count": 165,
   "id": "20fbf06b",
   "metadata": {},
   "outputs": [
    {
     "data": {
      "text/plain": [
       "loan\n",
       "no     33070\n",
       "yes     6930\n",
       "Name: count, dtype: int64"
      ]
     },
     "execution_count": 165,
     "metadata": {},
     "output_type": "execute_result"
    }
   ],
   "source": [
    "X['loan'].value_counts()"
   ]
  },
  {
   "cell_type": "code",
   "execution_count": 166,
   "id": "73ad92f7",
   "metadata": {},
   "outputs": [
    {
     "data": {
      "text/plain": [
       "<Axes: ylabel='count'>"
      ]
     },
     "execution_count": 166,
     "metadata": {},
     "output_type": "execute_result"
    },
    {
     "data": {
      "image/png": "[encoded data removed]",
      "text/plain": [
       "<Figure size 640x480 with 1 Axes>"
      ]
     },
     "metadata": {},
     "output_type": "display_data"
    }
   ],
   "source": [
    "X['loan'].value_counts().plot.pie(autopct='%.2f')"
   ]
  },
  {
   "cell_type": "code",
   "execution_count": null,
   "id": "e0be3030",
   "metadata": {},
   "outputs": [],
   "source": []
  },
  {
   "cell_type": "code",
   "execution_count": 167,
   "id": "410fc1f7",
   "metadata": {},
   "outputs": [],
   "source": [
    "X['loan'] = X['loan'].map({'yes':1, 'no':0})"
   ]
  },
  {
   "cell_type": "code",
   "execution_count": 168,
   "id": "5016b43d",
   "metadata": {},
   "outputs": [
    {
     "data": {
      "text/plain": [
       "loan\n",
       "0    33070\n",
       "1     6930\n",
       "Name: count, dtype: int64"
      ]
     },
     "execution_count": 168,
     "metadata": {},
     "output_type": "execute_result"
    }
   ],
   "source": [
    "X['loan'].value_counts()"
   ]
  },
  {
   "cell_type": "code",
   "execution_count": null,
   "id": "412209bb",
   "metadata": {},
   "outputs": [],
   "source": []
  },
  {
   "cell_type": "markdown",
   "id": "46907e03",
   "metadata": {},
   "source": [
    "#### 5) marital"
   ]
  },
  {
   "cell_type": "code",
   "execution_count": 169,
   "id": "0ee8d078",
   "metadata": {},
   "outputs": [
    {
     "data": {
      "text/plain": [
       "marital\n",
       "married     24386\n",
       "single      10889\n",
       "divorced     4725\n",
       "Name: count, dtype: int64"
      ]
     },
     "execution_count": 169,
     "metadata": {},
     "output_type": "execute_result"
    }
   ],
   "source": [
    "X['marital'].value_counts()"
   ]
  },
  {
   "cell_type": "code",
   "execution_count": 170,
   "id": "31f2743f",
   "metadata": {},
   "outputs": [
    {
     "data": {
      "text/plain": [
       "<Axes: ylabel='count'>"
      ]
     },
     "execution_count": 170,
     "metadata": {},
     "output_type": "execute_result"
    },
    {
     "data": {
      "image/png": "[encoded data removed]",
      "text/plain": [
       "<Figure size 640x480 with 1 Axes>"
      ]
     },
     "metadata": {},
     "output_type": "display_data"
    }
   ],
   "source": [
    "X['marital'].value_counts().plot.pie(autopct='%.2f')"
   ]
  },
  {
   "cell_type": "markdown",
   "id": "ae1590be",
   "metadata": {},
   "source": [
    "Here we see that the feature 'marital' is a nominal categorical variable. So we can go ahead with One hot encoding as only 3 columns can be used to represent all values"
   ]
  },
  {
   "cell_type": "code",
   "execution_count": 171,
   "id": "b443c16f",
   "metadata": {},
   "outputs": [],
   "source": [
    "X = encode_and_concat(X, 'marital')"
   ]
  },
  {
   "cell_type": "code",
   "execution_count": 172,
   "id": "4d55c61a",
   "metadata": {},
   "outputs": [
    {
     "data": {
      "text/html": [
       "<div>\n",
       "<style scoped>\n",
       "    .dataframe tbody tr th:only-of-type {\n",
       "        vertical-align: middle;\n",
       "    }\n",
       "\n",
       "    .dataframe tbody tr th {\n",
       "        vertical-align: top;\n",
       "    }\n",
       "\n",
       "    .dataframe thead th {\n",
       "        text-align: right;\n",
       "    }\n",
       "</style>\n",
       "<table border=\"1\" class=\"dataframe\">\n",
       "  <thead>\n",
       "    <tr style=\"text-align: right;\">\n",
       "      <th></th>\n",
       "      <th>age</th>\n",
       "      <th>balance</th>\n",
       "      <th>campaign</th>\n",
       "      <th>day</th>\n",
       "      <th>default</th>\n",
       "      <th>duration</th>\n",
       "      <th>education</th>\n",
       "      <th>housing</th>\n",
       "      <th>job</th>\n",
       "      <th>loan</th>\n",
       "      <th>month</th>\n",
       "      <th>contact_cellular</th>\n",
       "      <th>contact_telephone</th>\n",
       "      <th>contact_unknown</th>\n",
       "      <th>marital_divorced</th>\n",
       "      <th>marital_married</th>\n",
       "      <th>marital_single</th>\n",
       "    </tr>\n",
       "  </thead>\n",
       "  <tbody>\n",
       "    <tr>\n",
       "      <th>0</th>\n",
       "      <td>58</td>\n",
       "      <td>2143</td>\n",
       "      <td>1</td>\n",
       "      <td>5</td>\n",
       "      <td>0</td>\n",
       "      <td>261</td>\n",
       "      <td>2</td>\n",
       "      <td>1</td>\n",
       "      <td>4</td>\n",
       "      <td>0</td>\n",
       "      <td>may</td>\n",
       "      <td>0</td>\n",
       "      <td>0</td>\n",
       "      <td>1</td>\n",
       "      <td>0</td>\n",
       "      <td>1</td>\n",
       "      <td>0</td>\n",
       "    </tr>\n",
       "    <tr>\n",
       "      <th>1</th>\n",
       "      <td>44</td>\n",
       "      <td>29</td>\n",
       "      <td>1</td>\n",
       "      <td>5</td>\n",
       "      <td>0</td>\n",
       "      <td>151</td>\n",
       "      <td>1</td>\n",
       "      <td>1</td>\n",
       "      <td>9</td>\n",
       "      <td>0</td>\n",
       "      <td>may</td>\n",
       "      <td>0</td>\n",
       "      <td>0</td>\n",
       "      <td>1</td>\n",
       "      <td>0</td>\n",
       "      <td>0</td>\n",
       "      <td>1</td>\n",
       "    </tr>\n",
       "    <tr>\n",
       "      <th>2</th>\n",
       "      <td>33</td>\n",
       "      <td>2</td>\n",
       "      <td>1</td>\n",
       "      <td>5</td>\n",
       "      <td>0</td>\n",
       "      <td>76</td>\n",
       "      <td>1</td>\n",
       "      <td>1</td>\n",
       "      <td>2</td>\n",
       "      <td>1</td>\n",
       "      <td>may</td>\n",
       "      <td>0</td>\n",
       "      <td>0</td>\n",
       "      <td>1</td>\n",
       "      <td>0</td>\n",
       "      <td>1</td>\n",
       "      <td>0</td>\n",
       "    </tr>\n",
       "    <tr>\n",
       "      <th>3</th>\n",
       "      <td>47</td>\n",
       "      <td>1506</td>\n",
       "      <td>1</td>\n",
       "      <td>5</td>\n",
       "      <td>0</td>\n",
       "      <td>92</td>\n",
       "      <td>3</td>\n",
       "      <td>1</td>\n",
       "      <td>1</td>\n",
       "      <td>0</td>\n",
       "      <td>may</td>\n",
       "      <td>0</td>\n",
       "      <td>0</td>\n",
       "      <td>1</td>\n",
       "      <td>0</td>\n",
       "      <td>1</td>\n",
       "      <td>0</td>\n",
       "    </tr>\n",
       "    <tr>\n",
       "      <th>4</th>\n",
       "      <td>33</td>\n",
       "      <td>1</td>\n",
       "      <td>1</td>\n",
       "      <td>5</td>\n",
       "      <td>0</td>\n",
       "      <td>198</td>\n",
       "      <td>3</td>\n",
       "      <td>0</td>\n",
       "      <td>11</td>\n",
       "      <td>0</td>\n",
       "      <td>may</td>\n",
       "      <td>0</td>\n",
       "      <td>0</td>\n",
       "      <td>1</td>\n",
       "      <td>0</td>\n",
       "      <td>0</td>\n",
       "      <td>1</td>\n",
       "    </tr>\n",
       "  </tbody>\n",
       "</table>\n",
       "</div>"
      ],
      "text/plain": [
       "   age  balance  campaign  day  default  duration  education  housing  job  \\\n",
       "0   58     2143         1    5        0       261          2        1    4   \n",
       "1   44       29         1    5        0       151          1        1    9   \n",
       "2   33        2         1    5        0        76          1        1    2   \n",
       "3   47     1506         1    5        0        92          3        1    1   \n",
       "4   33        1         1    5        0       198          3        0   11   \n",
       "\n",
       "   loan month  contact_cellular  contact_telephone  contact_unknown  \\\n",
       "0     0   may                 0                  0                1   \n",
       "1     0   may                 0                  0                1   \n",
       "2     1   may                 0                  0                1   \n",
       "3     0   may                 0                  0                1   \n",
       "4     0   may                 0                  0                1   \n",
       "\n",
       "   marital_divorced  marital_married  marital_single  \n",
       "0                 0                1               0  \n",
       "1                 0                0               1  \n",
       "2                 0                1               0  \n",
       "3                 0                1               0  \n",
       "4                 0                0               1  "
      ]
     },
     "execution_count": 172,
     "metadata": {},
     "output_type": "execute_result"
    }
   ],
   "source": [
    "X.head()"
   ]
  },
  {
   "cell_type": "code",
   "execution_count": null,
   "id": "be74a95a",
   "metadata": {},
   "outputs": [],
   "source": []
  },
  {
   "cell_type": "markdown",
   "id": "5464b9f4",
   "metadata": {},
   "source": [
    "#### 6) month"
   ]
  },
  {
   "cell_type": "markdown",
   "id": "2247a044",
   "metadata": {},
   "source": [
    "Ordinal categorical variable so will be using Label Encoding "
   ]
  },
  {
   "cell_type": "code",
   "execution_count": 173,
   "id": "41e96a2b",
   "metadata": {},
   "outputs": [
    {
     "data": {
      "text/plain": [
       "month\n",
       "may    13532\n",
       "jul     6380\n",
       "aug     5215\n",
       "jun     4734\n",
       "nov     3598\n",
       "apr     2718\n",
       "feb     2296\n",
       "jan     1176\n",
       "mar      258\n",
       "oct       80\n",
       "dec       13\n",
       "Name: count, dtype: int64"
      ]
     },
     "execution_count": 173,
     "metadata": {},
     "output_type": "execute_result"
    }
   ],
   "source": [
    "X['month'].value_counts()"
   ]
  },
  {
   "cell_type": "code",
   "execution_count": 174,
   "id": "d72edde5",
   "metadata": {},
   "outputs": [],
   "source": [
    "X['month'] = le_encoder.fit(X['month']).transform(X['month'])"
   ]
  },
  {
   "cell_type": "code",
   "execution_count": 175,
   "id": "6da8204f",
   "metadata": {},
   "outputs": [
    {
     "data": {
      "text/plain": [
       "month\n",
       "8     13532\n",
       "5      6380\n",
       "1      5215\n",
       "6      4734\n",
       "9      3598\n",
       "0      2718\n",
       "3      2296\n",
       "4      1176\n",
       "7       258\n",
       "10       80\n",
       "2        13\n",
       "Name: count, dtype: int64"
      ]
     },
     "execution_count": 175,
     "metadata": {},
     "output_type": "execute_result"
    }
   ],
   "source": [
    "X['month'].value_counts()"
   ]
  },
  {
   "cell_type": "code",
   "execution_count": null,
   "id": "a49507d0",
   "metadata": {},
   "outputs": [],
   "source": []
  },
  {
   "cell_type": "code",
   "execution_count": 176,
   "id": "fb932dd6",
   "metadata": {},
   "outputs": [
    {
     "data": {
      "text/html": [
       "<div>\n",
       "<style scoped>\n",
       "    .dataframe tbody tr th:only-of-type {\n",
       "        vertical-align: middle;\n",
       "    }\n",
       "\n",
       "    .dataframe tbody tr th {\n",
       "        vertical-align: top;\n",
       "    }\n",
       "\n",
       "    .dataframe thead th {\n",
       "        text-align: right;\n",
       "    }\n",
       "</style>\n",
       "<table border=\"1\" class=\"dataframe\">\n",
       "  <thead>\n",
       "    <tr style=\"text-align: right;\">\n",
       "      <th></th>\n",
       "      <th>age</th>\n",
       "      <th>balance</th>\n",
       "      <th>campaign</th>\n",
       "      <th>day</th>\n",
       "      <th>default</th>\n",
       "      <th>duration</th>\n",
       "      <th>education</th>\n",
       "      <th>housing</th>\n",
       "      <th>job</th>\n",
       "      <th>loan</th>\n",
       "      <th>month</th>\n",
       "      <th>contact_cellular</th>\n",
       "      <th>contact_telephone</th>\n",
       "      <th>contact_unknown</th>\n",
       "      <th>marital_divorced</th>\n",
       "      <th>marital_married</th>\n",
       "      <th>marital_single</th>\n",
       "    </tr>\n",
       "  </thead>\n",
       "  <tbody>\n",
       "    <tr>\n",
       "      <th>0</th>\n",
       "      <td>58</td>\n",
       "      <td>2143</td>\n",
       "      <td>1</td>\n",
       "      <td>5</td>\n",
       "      <td>0</td>\n",
       "      <td>261</td>\n",
       "      <td>2</td>\n",
       "      <td>1</td>\n",
       "      <td>4</td>\n",
       "      <td>0</td>\n",
       "      <td>8</td>\n",
       "      <td>0</td>\n",
       "      <td>0</td>\n",
       "      <td>1</td>\n",
       "      <td>0</td>\n",
       "      <td>1</td>\n",
       "      <td>0</td>\n",
       "    </tr>\n",
       "    <tr>\n",
       "      <th>1</th>\n",
       "      <td>44</td>\n",
       "      <td>29</td>\n",
       "      <td>1</td>\n",
       "      <td>5</td>\n",
       "      <td>0</td>\n",
       "      <td>151</td>\n",
       "      <td>1</td>\n",
       "      <td>1</td>\n",
       "      <td>9</td>\n",
       "      <td>0</td>\n",
       "      <td>8</td>\n",
       "      <td>0</td>\n",
       "      <td>0</td>\n",
       "      <td>1</td>\n",
       "      <td>0</td>\n",
       "      <td>0</td>\n",
       "      <td>1</td>\n",
       "    </tr>\n",
       "    <tr>\n",
       "      <th>2</th>\n",
       "      <td>33</td>\n",
       "      <td>2</td>\n",
       "      <td>1</td>\n",
       "      <td>5</td>\n",
       "      <td>0</td>\n",
       "      <td>76</td>\n",
       "      <td>1</td>\n",
       "      <td>1</td>\n",
       "      <td>2</td>\n",
       "      <td>1</td>\n",
       "      <td>8</td>\n",
       "      <td>0</td>\n",
       "      <td>0</td>\n",
       "      <td>1</td>\n",
       "      <td>0</td>\n",
       "      <td>1</td>\n",
       "      <td>0</td>\n",
       "    </tr>\n",
       "    <tr>\n",
       "      <th>3</th>\n",
       "      <td>47</td>\n",
       "      <td>1506</td>\n",
       "      <td>1</td>\n",
       "      <td>5</td>\n",
       "      <td>0</td>\n",
       "      <td>92</td>\n",
       "      <td>3</td>\n",
       "      <td>1</td>\n",
       "      <td>1</td>\n",
       "      <td>0</td>\n",
       "      <td>8</td>\n",
       "      <td>0</td>\n",
       "      <td>0</td>\n",
       "      <td>1</td>\n",
       "      <td>0</td>\n",
       "      <td>1</td>\n",
       "      <td>0</td>\n",
       "    </tr>\n",
       "    <tr>\n",
       "      <th>4</th>\n",
       "      <td>33</td>\n",
       "      <td>1</td>\n",
       "      <td>1</td>\n",
       "      <td>5</td>\n",
       "      <td>0</td>\n",
       "      <td>198</td>\n",
       "      <td>3</td>\n",
       "      <td>0</td>\n",
       "      <td>11</td>\n",
       "      <td>0</td>\n",
       "      <td>8</td>\n",
       "      <td>0</td>\n",
       "      <td>0</td>\n",
       "      <td>1</td>\n",
       "      <td>0</td>\n",
       "      <td>0</td>\n",
       "      <td>1</td>\n",
       "    </tr>\n",
       "  </tbody>\n",
       "</table>\n",
       "</div>"
      ],
      "text/plain": [
       "   age  balance  campaign  day  default  duration  education  housing  job  \\\n",
       "0   58     2143         1    5        0       261          2        1    4   \n",
       "1   44       29         1    5        0       151          1        1    9   \n",
       "2   33        2         1    5        0        76          1        1    2   \n",
       "3   47     1506         1    5        0        92          3        1    1   \n",
       "4   33        1         1    5        0       198          3        0   11   \n",
       "\n",
       "   loan  month  contact_cellular  contact_telephone  contact_unknown  \\\n",
       "0     0      8                 0                  0                1   \n",
       "1     0      8                 0                  0                1   \n",
       "2     1      8                 0                  0                1   \n",
       "3     0      8                 0                  0                1   \n",
       "4     0      8                 0                  0                1   \n",
       "\n",
       "   marital_divorced  marital_married  marital_single  \n",
       "0                 0                1               0  \n",
       "1                 0                0               1  \n",
       "2                 0                1               0  \n",
       "3                 0                1               0  \n",
       "4                 0                0               1  "
      ]
     },
     "execution_count": 176,
     "metadata": {},
     "output_type": "execute_result"
    }
   ],
   "source": [
    "X.head()"
   ]
  },
  {
   "cell_type": "code",
   "execution_count": null,
   "id": "69afcf37",
   "metadata": {},
   "outputs": [],
   "source": []
  },
  {
   "cell_type": "markdown",
   "id": "b876aa4a",
   "metadata": {},
   "source": [
    "#### 7) Finally also converting y (target variable) to 1 and 0"
   ]
  },
  {
   "cell_type": "code",
   "execution_count": 177,
   "id": "f99d43c2",
   "metadata": {},
   "outputs": [
    {
     "data": {
      "text/plain": [
       "y  \n",
       "no     37104\n",
       "yes     2896\n",
       "Name: count, dtype: int64"
      ]
     },
     "execution_count": 177,
     "metadata": {},
     "output_type": "execute_result"
    }
   ],
   "source": [
    "y.value_counts()"
   ]
  },
  {
   "cell_type": "code",
   "execution_count": 178,
   "id": "0b381363",
   "metadata": {},
   "outputs": [
    {
     "data": {
      "text/plain": [
       "<Axes: ylabel='count'>"
      ]
     },
     "execution_count": 178,
     "metadata": {},
     "output_type": "execute_result"
    },
    {
     "data": {
      "image/png": "[encoded data removed]",
      "text/plain": [
       "<Figure size 640x480 with 1 Axes>"
      ]
     },
     "metadata": {},
     "output_type": "display_data"
    }
   ],
   "source": [
    "y.value_counts().plot.pie(autopct='%.2f')"
   ]
  },
  {
   "cell_type": "code",
   "execution_count": 179,
   "id": "9c9fa391",
   "metadata": {},
   "outputs": [],
   "source": [
    "y['y'] = y['y'].map({'yes':1, 'no':0})"
   ]
  },
  {
   "cell_type": "code",
   "execution_count": 180,
   "id": "09198784",
   "metadata": {},
   "outputs": [
    {
     "data": {
      "text/plain": [
       "y\n",
       "0    37104\n",
       "1     2896\n",
       "Name: count, dtype: int64"
      ]
     },
     "execution_count": 180,
     "metadata": {},
     "output_type": "execute_result"
    }
   ],
   "source": [
    "y.value_counts()"
   ]
  },
  {
   "cell_type": "code",
   "execution_count": null,
   "id": "87ccbd9a",
   "metadata": {},
   "outputs": [],
   "source": []
  },
  {
   "cell_type": "markdown",
   "id": "b5bae0f7",
   "metadata": {},
   "source": [
    "### 2) Feature Scaling"
   ]
  },
  {
   "cell_type": "markdown",
   "id": "105fd3a4",
   "metadata": {},
   "source": [
    "Going ahead with scaling as the range of columns balance , duration are larger than other columns. Feature scaling helps in improving the performance of machine learning models."
   ]
  },
  {
   "cell_type": "code",
   "execution_count": 181,
   "id": "6c7f2c3e",
   "metadata": {},
   "outputs": [],
   "source": [
    "from sklearn import preprocessing"
   ]
  },
  {
   "cell_type": "code",
   "execution_count": 182,
   "id": "60184610",
   "metadata": {},
   "outputs": [],
   "source": [
    "scaler = preprocessing.StandardScaler()\n",
    "X_scaled = scaler.fit_transform(X) "
   ]
  },
  {
   "cell_type": "code",
   "execution_count": 183,
   "id": "22b1aef4",
   "metadata": {},
   "outputs": [
    {
     "data": {
      "text/plain": [
       "array([[ 1.81041533,  0.29917431, -0.58109559, ..., -0.36598846,\n",
       "         0.80017836, -0.61159713],\n",
       "       [ 0.35838246, -0.42885395, -0.58109559, ..., -0.36598846,\n",
       "        -1.24972137,  1.63506327],\n",
       "       [-0.78250052, -0.43815233, -0.58109559, ..., -0.36598846,\n",
       "         0.80017836, -0.61159713],\n",
       "       ...,\n",
       "       [ 1.3955488 , -0.36996425, -0.58109559, ...,  2.73232657,\n",
       "        -1.24972137, -0.61159713],\n",
       "       [-0.67878388, -0.0782708 , -0.58109559, ..., -0.36598846,\n",
       "         0.80017836, -0.61159713],\n",
       "       [-0.26391735,  0.05776097, -0.58109559, ..., -0.36598846,\n",
       "         0.80017836, -0.61159713]])"
      ]
     },
     "execution_count": 183,
     "metadata": {},
     "output_type": "execute_result"
    }
   ],
   "source": [
    "X_scaled"
   ]
  },
  {
   "cell_type": "code",
   "execution_count": 184,
   "id": "a016c509",
   "metadata": {},
   "outputs": [
    {
     "data": {
      "text/html": [
       "<div>\n",
       "<style scoped>\n",
       "    .dataframe tbody tr th:only-of-type {\n",
       "        vertical-align: middle;\n",
       "    }\n",
       "\n",
       "    .dataframe tbody tr th {\n",
       "        vertical-align: top;\n",
       "    }\n",
       "\n",
       "    .dataframe thead th {\n",
       "        text-align: right;\n",
       "    }\n",
       "</style>\n",
       "<table border=\"1\" class=\"dataframe\">\n",
       "  <thead>\n",
       "    <tr style=\"text-align: right;\">\n",
       "      <th></th>\n",
       "      <th>age</th>\n",
       "      <th>balance</th>\n",
       "      <th>campaign</th>\n",
       "      <th>day</th>\n",
       "      <th>default</th>\n",
       "      <th>duration</th>\n",
       "      <th>education</th>\n",
       "      <th>housing</th>\n",
       "      <th>job</th>\n",
       "      <th>loan</th>\n",
       "      <th>month</th>\n",
       "      <th>contact_cellular</th>\n",
       "      <th>contact_telephone</th>\n",
       "      <th>contact_unknown</th>\n",
       "      <th>marital_divorced</th>\n",
       "      <th>marital_married</th>\n",
       "      <th>marital_single</th>\n",
       "    </tr>\n",
       "  </thead>\n",
       "  <tbody>\n",
       "    <tr>\n",
       "      <th>0</th>\n",
       "      <td>1.810415</td>\n",
       "      <td>0.299174</td>\n",
       "      <td>-0.581096</td>\n",
       "      <td>-1.330900</td>\n",
       "      <td>-0.143675</td>\n",
       "      <td>0.023811</td>\n",
       "      <td>1.078768</td>\n",
       "      <td>0.815179</td>\n",
       "      <td>-0.080837</td>\n",
       "      <td>-0.457772</td>\n",
       "      <td>0.855985</td>\n",
       "      <td>-1.285093</td>\n",
       "      <td>-0.248192</td>\n",
       "      <td>1.460674</td>\n",
       "      <td>-0.365988</td>\n",
       "      <td>0.800178</td>\n",
       "      <td>-0.611597</td>\n",
       "    </tr>\n",
       "    <tr>\n",
       "      <th>1</th>\n",
       "      <td>0.358382</td>\n",
       "      <td>-0.428854</td>\n",
       "      <td>-0.581096</td>\n",
       "      <td>-1.330900</td>\n",
       "      <td>-0.143675</td>\n",
       "      <td>-0.400305</td>\n",
       "      <td>-0.269608</td>\n",
       "      <td>0.815179</td>\n",
       "      <td>1.438371</td>\n",
       "      <td>-0.457772</td>\n",
       "      <td>0.855985</td>\n",
       "      <td>-1.285093</td>\n",
       "      <td>-0.248192</td>\n",
       "      <td>1.460674</td>\n",
       "      <td>-0.365988</td>\n",
       "      <td>-1.249721</td>\n",
       "      <td>1.635063</td>\n",
       "    </tr>\n",
       "    <tr>\n",
       "      <th>2</th>\n",
       "      <td>-0.782501</td>\n",
       "      <td>-0.438152</td>\n",
       "      <td>-0.581096</td>\n",
       "      <td>-1.330900</td>\n",
       "      <td>-0.143675</td>\n",
       "      <td>-0.689474</td>\n",
       "      <td>-0.269608</td>\n",
       "      <td>0.815179</td>\n",
       "      <td>-0.688520</td>\n",
       "      <td>2.184492</td>\n",
       "      <td>0.855985</td>\n",
       "      <td>-1.285093</td>\n",
       "      <td>-0.248192</td>\n",
       "      <td>1.460674</td>\n",
       "      <td>-0.365988</td>\n",
       "      <td>0.800178</td>\n",
       "      <td>-0.611597</td>\n",
       "    </tr>\n",
       "    <tr>\n",
       "      <th>3</th>\n",
       "      <td>0.669532</td>\n",
       "      <td>0.079802</td>\n",
       "      <td>-0.581096</td>\n",
       "      <td>-1.330900</td>\n",
       "      <td>-0.143675</td>\n",
       "      <td>-0.627785</td>\n",
       "      <td>2.427143</td>\n",
       "      <td>0.815179</td>\n",
       "      <td>-0.992362</td>\n",
       "      <td>-0.457772</td>\n",
       "      <td>0.855985</td>\n",
       "      <td>-1.285093</td>\n",
       "      <td>-0.248192</td>\n",
       "      <td>1.460674</td>\n",
       "      <td>-0.365988</td>\n",
       "      <td>0.800178</td>\n",
       "      <td>-0.611597</td>\n",
       "    </tr>\n",
       "    <tr>\n",
       "      <th>4</th>\n",
       "      <td>-0.782501</td>\n",
       "      <td>-0.438497</td>\n",
       "      <td>-0.581096</td>\n",
       "      <td>-1.330900</td>\n",
       "      <td>-0.143675</td>\n",
       "      <td>-0.219092</td>\n",
       "      <td>2.427143</td>\n",
       "      <td>-1.226725</td>\n",
       "      <td>2.046055</td>\n",
       "      <td>-0.457772</td>\n",
       "      <td>0.855985</td>\n",
       "      <td>-1.285093</td>\n",
       "      <td>-0.248192</td>\n",
       "      <td>1.460674</td>\n",
       "      <td>-0.365988</td>\n",
       "      <td>-1.249721</td>\n",
       "      <td>1.635063</td>\n",
       "    </tr>\n",
       "    <tr>\n",
       "      <th>...</th>\n",
       "      <td>...</td>\n",
       "      <td>...</td>\n",
       "      <td>...</td>\n",
       "      <td>...</td>\n",
       "      <td>...</td>\n",
       "      <td>...</td>\n",
       "      <td>...</td>\n",
       "      <td>...</td>\n",
       "      <td>...</td>\n",
       "      <td>...</td>\n",
       "      <td>...</td>\n",
       "      <td>...</td>\n",
       "      <td>...</td>\n",
       "      <td>...</td>\n",
       "      <td>...</td>\n",
       "      <td>...</td>\n",
       "      <td>...</td>\n",
       "    </tr>\n",
       "    <tr>\n",
       "      <th>39995</th>\n",
       "      <td>1.291832</td>\n",
       "      <td>-0.302809</td>\n",
       "      <td>-0.581096</td>\n",
       "      <td>-1.572504</td>\n",
       "      <td>-0.143675</td>\n",
       "      <td>-0.569951</td>\n",
       "      <td>1.078768</td>\n",
       "      <td>-1.226725</td>\n",
       "      <td>1.438371</td>\n",
       "      <td>-0.457772</td>\n",
       "      <td>0.168578</td>\n",
       "      <td>0.778154</td>\n",
       "      <td>-0.248192</td>\n",
       "      <td>-0.684615</td>\n",
       "      <td>-0.365988</td>\n",
       "      <td>0.800178</td>\n",
       "      <td>-0.611597</td>\n",
       "    </tr>\n",
       "    <tr>\n",
       "      <th>39996</th>\n",
       "      <td>-1.093650</td>\n",
       "      <td>0.711402</td>\n",
       "      <td>0.036377</td>\n",
       "      <td>-1.572504</td>\n",
       "      <td>-0.143675</td>\n",
       "      <td>-0.064868</td>\n",
       "      <td>1.078768</td>\n",
       "      <td>-1.226725</td>\n",
       "      <td>-0.080837</td>\n",
       "      <td>-0.457772</td>\n",
       "      <td>0.168578</td>\n",
       "      <td>0.778154</td>\n",
       "      <td>-0.248192</td>\n",
       "      <td>-0.684615</td>\n",
       "      <td>-0.365988</td>\n",
       "      <td>-1.249721</td>\n",
       "      <td>1.635063</td>\n",
       "    </tr>\n",
       "    <tr>\n",
       "      <th>39997</th>\n",
       "      <td>1.395549</td>\n",
       "      <td>-0.369964</td>\n",
       "      <td>-0.581096</td>\n",
       "      <td>-1.572504</td>\n",
       "      <td>-0.143675</td>\n",
       "      <td>-0.327048</td>\n",
       "      <td>-0.269608</td>\n",
       "      <td>-1.226725</td>\n",
       "      <td>-1.296204</td>\n",
       "      <td>-0.457772</td>\n",
       "      <td>0.168578</td>\n",
       "      <td>0.778154</td>\n",
       "      <td>-0.248192</td>\n",
       "      <td>-0.684615</td>\n",
       "      <td>2.732327</td>\n",
       "      <td>-1.249721</td>\n",
       "      <td>-0.611597</td>\n",
       "    </tr>\n",
       "    <tr>\n",
       "      <th>39998</th>\n",
       "      <td>-0.678784</td>\n",
       "      <td>-0.078271</td>\n",
       "      <td>-0.581096</td>\n",
       "      <td>-1.572504</td>\n",
       "      <td>-0.143675</td>\n",
       "      <td>0.336114</td>\n",
       "      <td>1.078768</td>\n",
       "      <td>-1.226725</td>\n",
       "      <td>-0.080837</td>\n",
       "      <td>-0.457772</td>\n",
       "      <td>0.168578</td>\n",
       "      <td>0.778154</td>\n",
       "      <td>-0.248192</td>\n",
       "      <td>-0.684615</td>\n",
       "      <td>-0.365988</td>\n",
       "      <td>0.800178</td>\n",
       "      <td>-0.611597</td>\n",
       "    </tr>\n",
       "    <tr>\n",
       "      <th>39999</th>\n",
       "      <td>-0.263917</td>\n",
       "      <td>0.057761</td>\n",
       "      <td>-0.581096</td>\n",
       "      <td>-1.572504</td>\n",
       "      <td>-0.143675</td>\n",
       "      <td>-0.546817</td>\n",
       "      <td>-0.269608</td>\n",
       "      <td>0.815179</td>\n",
       "      <td>1.438371</td>\n",
       "      <td>-0.457772</td>\n",
       "      <td>0.168578</td>\n",
       "      <td>0.778154</td>\n",
       "      <td>-0.248192</td>\n",
       "      <td>-0.684615</td>\n",
       "      <td>-0.365988</td>\n",
       "      <td>0.800178</td>\n",
       "      <td>-0.611597</td>\n",
       "    </tr>\n",
       "  </tbody>\n",
       "</table>\n",
       "<p>40000 rows × 17 columns</p>\n",
       "</div>"
      ],
      "text/plain": [
       "            age   balance  campaign       day   default  duration  education  \\\n",
       "0      1.810415  0.299174 -0.581096 -1.330900 -0.143675  0.023811   1.078768   \n",
       "1      0.358382 -0.428854 -0.581096 -1.330900 -0.143675 -0.400305  -0.269608   \n",
       "2     -0.782501 -0.438152 -0.581096 -1.330900 -0.143675 -0.689474  -0.269608   \n",
       "3      0.669532  0.079802 -0.581096 -1.330900 -0.143675 -0.627785   2.427143   \n",
       "4     -0.782501 -0.438497 -0.581096 -1.330900 -0.143675 -0.219092   2.427143   \n",
       "...         ...       ...       ...       ...       ...       ...        ...   \n",
       "39995  1.291832 -0.302809 -0.581096 -1.572504 -0.143675 -0.569951   1.078768   \n",
       "39996 -1.093650  0.711402  0.036377 -1.572504 -0.143675 -0.064868   1.078768   \n",
       "39997  1.395549 -0.369964 -0.581096 -1.572504 -0.143675 -0.327048  -0.269608   \n",
       "39998 -0.678784 -0.078271 -0.581096 -1.572504 -0.143675  0.336114   1.078768   \n",
       "39999 -0.263917  0.057761 -0.581096 -1.572504 -0.143675 -0.546817  -0.269608   \n",
       "\n",
       "        housing       job      loan     month  contact_cellular  \\\n",
       "0      0.815179 -0.080837 -0.457772  0.855985         -1.285093   \n",
       "1      0.815179  1.438371 -0.457772  0.855985         -1.285093   \n",
       "2      0.815179 -0.688520  2.184492  0.855985         -1.285093   \n",
       "3      0.815179 -0.992362 -0.457772  0.855985         -1.285093   \n",
       "4     -1.226725  2.046055 -0.457772  0.855985         -1.285093   \n",
       "...         ...       ...       ...       ...               ...   \n",
       "39995 -1.226725  1.438371 -0.457772  0.168578          0.778154   \n",
       "39996 -1.226725 -0.080837 -0.457772  0.168578          0.778154   \n",
       "39997 -1.226725 -1.296204 -0.457772  0.168578          0.778154   \n",
       "39998 -1.226725 -0.080837 -0.457772  0.168578          0.778154   \n",
       "39999  0.815179  1.438371 -0.457772  0.168578          0.778154   \n",
       "\n",
       "       contact_telephone  contact_unknown  marital_divorced  marital_married  \\\n",
       "0              -0.248192         1.460674         -0.365988         0.800178   \n",
       "1              -0.248192         1.460674         -0.365988        -1.249721   \n",
       "2              -0.248192         1.460674         -0.365988         0.800178   \n",
       "3              -0.248192         1.460674         -0.365988         0.800178   \n",
       "4              -0.248192         1.460674         -0.365988        -1.249721   \n",
       "...                  ...              ...               ...              ...   \n",
       "39995          -0.248192        -0.684615         -0.365988         0.800178   \n",
       "39996          -0.248192        -0.684615         -0.365988        -1.249721   \n",
       "39997          -0.248192        -0.684615          2.732327        -1.249721   \n",
       "39998          -0.248192        -0.684615         -0.365988         0.800178   \n",
       "39999          -0.248192        -0.684615         -0.365988         0.800178   \n",
       "\n",
       "       marital_single  \n",
       "0           -0.611597  \n",
       "1            1.635063  \n",
       "2           -0.611597  \n",
       "3           -0.611597  \n",
       "4            1.635063  \n",
       "...               ...  \n",
       "39995       -0.611597  \n",
       "39996        1.635063  \n",
       "39997       -0.611597  \n",
       "39998       -0.611597  \n",
       "39999       -0.611597  \n",
       "\n",
       "[40000 rows x 17 columns]"
      ]
     },
     "execution_count": 184,
     "metadata": {},
     "output_type": "execute_result"
    }
   ],
   "source": [
    "X_scaled_df = pd.DataFrame(X_scaled, index=X.index, columns=X.columns)\n",
    "X_scaled_df"
   ]
  },
  {
   "cell_type": "code",
   "execution_count": null,
   "id": "c3e9730d",
   "metadata": {},
   "outputs": [],
   "source": []
  },
  {
   "cell_type": "code",
   "execution_count": null,
   "id": "b7d717b9",
   "metadata": {},
   "outputs": [],
   "source": []
  },
  {
   "cell_type": "markdown",
   "id": "e8342fd7",
   "metadata": {},
   "source": [
    "### 3) Sampling (to handle imbalanced dataset)"
   ]
  },
  {
   "cell_type": "code",
   "execution_count": 185,
   "id": "394bffba",
   "metadata": {},
   "outputs": [
    {
     "data": {
      "text/plain": [
       "<Axes: xlabel='y', ylabel='count'>"
      ]
     },
     "execution_count": 185,
     "metadata": {},
     "output_type": "execute_result"
    },
    {
     "data": {
      "image/png": "[encoded data removed]",
      "text/plain": [
       "<Figure size 640x480 with 1 Axes>"
      ]
     },
     "metadata": {},
     "output_type": "display_data"
    }
   ],
   "source": [
    "sns.countplot(x='y', data=df)"
   ]
  },
  {
   "cell_type": "markdown",
   "id": "65bb972d",
   "metadata": {},
   "source": [
    "The data as we see is highly imbalanced as the minority class(yes) is representing less than 10% of the total samples. Hence, will be going ahead with Sampling alogorithms like SMOTE and SMOTETomek. Starting with **SMOTE** as it addresses the imbalance by generating synthetic samples for the minority class. It creates new instances by interpolating between existing minority class samples, making the dataset more balanced."
   ]
  },
  {
   "cell_type": "code",
   "execution_count": null,
   "id": "6d173920",
   "metadata": {},
   "outputs": [],
   "source": []
  },
  {
   "cell_type": "code",
   "execution_count": 186,
   "id": "d4dec60c",
   "metadata": {},
   "outputs": [
    {
     "data": {
      "text/html": [
       "<div>\n",
       "<style scoped>\n",
       "    .dataframe tbody tr th:only-of-type {\n",
       "        vertical-align: middle;\n",
       "    }\n",
       "\n",
       "    .dataframe tbody tr th {\n",
       "        vertical-align: top;\n",
       "    }\n",
       "\n",
       "    .dataframe thead th {\n",
       "        text-align: right;\n",
       "    }\n",
       "</style>\n",
       "<table border=\"1\" class=\"dataframe\">\n",
       "  <thead>\n",
       "    <tr style=\"text-align: right;\">\n",
       "      <th></th>\n",
       "      <th>age</th>\n",
       "      <th>balance</th>\n",
       "      <th>campaign</th>\n",
       "      <th>day</th>\n",
       "      <th>default</th>\n",
       "      <th>duration</th>\n",
       "      <th>education</th>\n",
       "      <th>housing</th>\n",
       "      <th>job</th>\n",
       "      <th>loan</th>\n",
       "      <th>month</th>\n",
       "      <th>contact_cellular</th>\n",
       "      <th>contact_telephone</th>\n",
       "      <th>contact_unknown</th>\n",
       "      <th>marital_divorced</th>\n",
       "      <th>marital_married</th>\n",
       "      <th>marital_single</th>\n",
       "      <th>y</th>\n",
       "    </tr>\n",
       "  </thead>\n",
       "  <tbody>\n",
       "    <tr>\n",
       "      <th>0</th>\n",
       "      <td>1.810415</td>\n",
       "      <td>0.299174</td>\n",
       "      <td>-0.581096</td>\n",
       "      <td>-1.3309</td>\n",
       "      <td>-0.143675</td>\n",
       "      <td>0.023811</td>\n",
       "      <td>1.078768</td>\n",
       "      <td>0.815179</td>\n",
       "      <td>-0.080837</td>\n",
       "      <td>-0.457772</td>\n",
       "      <td>0.855985</td>\n",
       "      <td>-1.285093</td>\n",
       "      <td>-0.248192</td>\n",
       "      <td>1.460674</td>\n",
       "      <td>-0.365988</td>\n",
       "      <td>0.800178</td>\n",
       "      <td>-0.611597</td>\n",
       "      <td>0</td>\n",
       "    </tr>\n",
       "    <tr>\n",
       "      <th>1</th>\n",
       "      <td>0.358382</td>\n",
       "      <td>-0.428854</td>\n",
       "      <td>-0.581096</td>\n",
       "      <td>-1.3309</td>\n",
       "      <td>-0.143675</td>\n",
       "      <td>-0.400305</td>\n",
       "      <td>-0.269608</td>\n",
       "      <td>0.815179</td>\n",
       "      <td>1.438371</td>\n",
       "      <td>-0.457772</td>\n",
       "      <td>0.855985</td>\n",
       "      <td>-1.285093</td>\n",
       "      <td>-0.248192</td>\n",
       "      <td>1.460674</td>\n",
       "      <td>-0.365988</td>\n",
       "      <td>-1.249721</td>\n",
       "      <td>1.635063</td>\n",
       "      <td>0</td>\n",
       "    </tr>\n",
       "    <tr>\n",
       "      <th>2</th>\n",
       "      <td>-0.782501</td>\n",
       "      <td>-0.438152</td>\n",
       "      <td>-0.581096</td>\n",
       "      <td>-1.3309</td>\n",
       "      <td>-0.143675</td>\n",
       "      <td>-0.689474</td>\n",
       "      <td>-0.269608</td>\n",
       "      <td>0.815179</td>\n",
       "      <td>-0.688520</td>\n",
       "      <td>2.184492</td>\n",
       "      <td>0.855985</td>\n",
       "      <td>-1.285093</td>\n",
       "      <td>-0.248192</td>\n",
       "      <td>1.460674</td>\n",
       "      <td>-0.365988</td>\n",
       "      <td>0.800178</td>\n",
       "      <td>-0.611597</td>\n",
       "      <td>0</td>\n",
       "    </tr>\n",
       "    <tr>\n",
       "      <th>3</th>\n",
       "      <td>0.669532</td>\n",
       "      <td>0.079802</td>\n",
       "      <td>-0.581096</td>\n",
       "      <td>-1.3309</td>\n",
       "      <td>-0.143675</td>\n",
       "      <td>-0.627785</td>\n",
       "      <td>2.427143</td>\n",
       "      <td>0.815179</td>\n",
       "      <td>-0.992362</td>\n",
       "      <td>-0.457772</td>\n",
       "      <td>0.855985</td>\n",
       "      <td>-1.285093</td>\n",
       "      <td>-0.248192</td>\n",
       "      <td>1.460674</td>\n",
       "      <td>-0.365988</td>\n",
       "      <td>0.800178</td>\n",
       "      <td>-0.611597</td>\n",
       "      <td>0</td>\n",
       "    </tr>\n",
       "    <tr>\n",
       "      <th>4</th>\n",
       "      <td>-0.782501</td>\n",
       "      <td>-0.438497</td>\n",
       "      <td>-0.581096</td>\n",
       "      <td>-1.3309</td>\n",
       "      <td>-0.143675</td>\n",
       "      <td>-0.219092</td>\n",
       "      <td>2.427143</td>\n",
       "      <td>-1.226725</td>\n",
       "      <td>2.046055</td>\n",
       "      <td>-0.457772</td>\n",
       "      <td>0.855985</td>\n",
       "      <td>-1.285093</td>\n",
       "      <td>-0.248192</td>\n",
       "      <td>1.460674</td>\n",
       "      <td>-0.365988</td>\n",
       "      <td>-1.249721</td>\n",
       "      <td>1.635063</td>\n",
       "      <td>0</td>\n",
       "    </tr>\n",
       "  </tbody>\n",
       "</table>\n",
       "</div>"
      ],
      "text/plain": [
       "        age   balance  campaign     day   default  duration  education  \\\n",
       "0  1.810415  0.299174 -0.581096 -1.3309 -0.143675  0.023811   1.078768   \n",
       "1  0.358382 -0.428854 -0.581096 -1.3309 -0.143675 -0.400305  -0.269608   \n",
       "2 -0.782501 -0.438152 -0.581096 -1.3309 -0.143675 -0.689474  -0.269608   \n",
       "3  0.669532  0.079802 -0.581096 -1.3309 -0.143675 -0.627785   2.427143   \n",
       "4 -0.782501 -0.438497 -0.581096 -1.3309 -0.143675 -0.219092   2.427143   \n",
       "\n",
       "    housing       job      loan     month  contact_cellular  \\\n",
       "0  0.815179 -0.080837 -0.457772  0.855985         -1.285093   \n",
       "1  0.815179  1.438371 -0.457772  0.855985         -1.285093   \n",
       "2  0.815179 -0.688520  2.184492  0.855985         -1.285093   \n",
       "3  0.815179 -0.992362 -0.457772  0.855985         -1.285093   \n",
       "4 -1.226725  2.046055 -0.457772  0.855985         -1.285093   \n",
       "\n",
       "   contact_telephone  contact_unknown  marital_divorced  marital_married  \\\n",
       "0          -0.248192         1.460674         -0.365988         0.800178   \n",
       "1          -0.248192         1.460674         -0.365988        -1.249721   \n",
       "2          -0.248192         1.460674         -0.365988         0.800178   \n",
       "3          -0.248192         1.460674         -0.365988         0.800178   \n",
       "4          -0.248192         1.460674         -0.365988        -1.249721   \n",
       "\n",
       "   marital_single  y  \n",
       "0       -0.611597  0  \n",
       "1        1.635063  0  \n",
       "2       -0.611597  0  \n",
       "3       -0.611597  0  \n",
       "4        1.635063  0  "
      ]
     },
     "execution_count": 186,
     "metadata": {},
     "output_type": "execute_result"
    }
   ],
   "source": [
    "X_final = pd.concat([X_scaled_df, y], axis=1)\n",
    "X_final.head()"
   ]
  },
  {
   "cell_type": "code",
   "execution_count": null,
   "id": "c1d05d31",
   "metadata": {},
   "outputs": [],
   "source": []
  },
  {
   "cell_type": "code",
   "execution_count": 187,
   "id": "79baeb1f",
   "metadata": {},
   "outputs": [],
   "source": [
    "X_final_features = X_final[X_final.columns.difference(['y'])]"
   ]
  },
  {
   "cell_type": "code",
   "execution_count": null,
   "id": "88619425",
   "metadata": {},
   "outputs": [],
   "source": []
  },
  {
   "cell_type": "code",
   "execution_count": 188,
   "id": "9ebbc231",
   "metadata": {},
   "outputs": [
    {
     "data": {
      "text/plain": [
       "((74208, 17), (74208, 1))"
      ]
     },
     "execution_count": 188,
     "metadata": {},
     "output_type": "execute_result"
    }
   ],
   "source": [
    "from imblearn.over_sampling import SMOTE\n",
    "\n",
    "sm =SMOTE(random_state=2)\n",
    "X_train_res, y_train_res = sm.fit_resample(X_final_features, y)\n",
    "X_train_res.shape, y_train_res.shape"
   ]
  },
  {
   "cell_type": "markdown",
   "id": "5434a669",
   "metadata": {},
   "source": [
    "Plot after Sampling technique : "
   ]
  },
  {
   "cell_type": "code",
   "execution_count": 189,
   "id": "26744cf8",
   "metadata": {},
   "outputs": [
    {
     "data": {
      "text/plain": [
       "<Axes: ylabel='count'>"
      ]
     },
     "execution_count": 189,
     "metadata": {},
     "output_type": "execute_result"
    },
    {
     "data": {
      "image/png": "[encoded data removed]",
      "text/plain": [
       "<Figure size 640x480 with 1 Axes>"
      ]
     },
     "metadata": {},
     "output_type": "display_data"
    }
   ],
   "source": [
    "y_train_res.value_counts().plot.pie(autopct='%.2f')"
   ]
  },
  {
   "cell_type": "markdown",
   "id": "a7df1ac3",
   "metadata": {},
   "source": [
    "Hurray! Now the dataset is balanced and now we can proceed ahead with the model building."
   ]
  },
  {
   "cell_type": "code",
   "execution_count": null,
   "id": "9736984e",
   "metadata": {},
   "outputs": [],
   "source": []
  },
  {
   "cell_type": "code",
   "execution_count": null,
   "id": "be1403bd",
   "metadata": {},
   "outputs": [],
   "source": []
  },
  {
   "cell_type": "markdown",
   "id": "730c19ad",
   "metadata": {},
   "source": [
    "## ML Model Building"
   ]
  },
  {
   "cell_type": "markdown",
   "id": "a84257b9",
   "metadata": {},
   "source": [
    "As the problem is a classification problem, we start by building baseline models and will decide upon which to proceed with by exploring the results."
   ]
  },
  {
   "cell_type": "code",
   "execution_count": 190,
   "id": "d8ed0c89",
   "metadata": {},
   "outputs": [],
   "source": [
    "## Splitting data into test and train\n",
    "from sklearn.model_selection import train_test_split\n",
    "x_train, x_test, y_train, y_test = train_test_split(X_train_res, y_train_res, test_size=0.3, random_state=125)"
   ]
  },
  {
   "cell_type": "code",
   "execution_count": 191,
   "id": "40ade5fa",
   "metadata": {},
   "outputs": [],
   "source": [
    "from sklearn.linear_model import LogisticRegression\n",
    "from sklearn import svm, tree\n",
    "from sklearn.metrics import accuracy_score, confusion_matrix\n",
    "from sklearn.ensemble import RandomForestClassifier\n",
    "import xgboost as xgb\n",
    "\n",
    "classifiers = []"
   ]
  },
  {
   "cell_type": "code",
   "execution_count": 192,
   "id": "ebac2651",
   "metadata": {},
   "outputs": [],
   "source": [
    "model = LogisticRegression(solver='lbfgs', C=1e4, max_iter=1000, penalty='l2')\n",
    "classifiers.append(model)\n",
    "model1 = xgb.XGBClassifier()\n",
    "classifiers.append(model1)\n",
    "model2 = svm.SVC()\n",
    "classifiers.append(model2)\n",
    "model3 = tree.DecisionTreeClassifier()\n",
    "classifiers.append(model3)\n",
    "model4 = RandomForestClassifier()\n",
    "classifiers.append(model4)"
   ]
  },
  {
   "cell_type": "code",
   "execution_count": null,
   "id": "db4ded03",
   "metadata": {},
   "outputs": [],
   "source": []
  },
  {
   "cell_type": "code",
   "execution_count": 193,
   "id": "c232451e",
   "metadata": {},
   "outputs": [
    {
     "name": "stdout",
     "output_type": "stream",
     "text": [
      "\u001b[1m PERFORMANCE METRICS \u001b[0m\n",
      "\n",
      "\n",
      "\n",
      "Model: LogisticRegression.\n",
      "Training Accuracy is 83.00 amd Testing accuracy is 82.00\n",
      "Confusion Matrix is \n",
      " [[9446 1600]\n",
      " [2322 8895]]\n",
      "Classification Report is \n",
      "               precision    recall  f1-score   support\n",
      "\n",
      "           0       0.80      0.86      0.83     11046\n",
      "           1       0.85      0.79      0.82     11217\n",
      "\n",
      "    accuracy                           0.82     22263\n",
      "   macro avg       0.83      0.82      0.82     22263\n",
      "weighted avg       0.83      0.82      0.82     22263\n",
      "\n",
      "\n",
      "\n",
      "Model: XGBClassifier.\n",
      "Training Accuracy is 98.00 amd Testing accuracy is 96.00\n",
      "Confusion Matrix is \n",
      " [[10720   326]\n",
      " [  454 10763]]\n",
      "Classification Report is \n",
      "               precision    recall  f1-score   support\n",
      "\n",
      "           0       0.96      0.97      0.96     11046\n",
      "           1       0.97      0.96      0.97     11217\n",
      "\n",
      "    accuracy                           0.96     22263\n",
      "   macro avg       0.96      0.97      0.96     22263\n",
      "weighted avg       0.97      0.96      0.96     22263\n",
      "\n",
      "\n",
      "\n",
      "Model: SVC.\n",
      "Training Accuracy is 89.00 amd Testing accuracy is 88.00\n",
      "Confusion Matrix is \n",
      " [[ 9395  1651]\n",
      " [  965 10252]]\n",
      "Classification Report is \n",
      "               precision    recall  f1-score   support\n",
      "\n",
      "           0       0.91      0.85      0.88     11046\n",
      "           1       0.86      0.91      0.89     11217\n",
      "\n",
      "    accuracy                           0.88     22263\n",
      "   macro avg       0.88      0.88      0.88     22263\n",
      "weighted avg       0.88      0.88      0.88     22263\n",
      "\n",
      "\n",
      "\n",
      "Model: DecisionTreeClassifier.\n",
      "Training Accuracy is 100.00 amd Testing accuracy is 94.00\n",
      "Confusion Matrix is \n",
      " [[10262   784]\n",
      " [  629 10588]]\n",
      "Classification Report is \n",
      "               precision    recall  f1-score   support\n",
      "\n",
      "           0       0.94      0.93      0.94     11046\n",
      "           1       0.93      0.94      0.94     11217\n",
      "\n",
      "    accuracy                           0.94     22263\n",
      "   macro avg       0.94      0.94      0.94     22263\n",
      "weighted avg       0.94      0.94      0.94     22263\n",
      "\n",
      "\n",
      "\n",
      "Model: RandomForestClassifier.\n",
      "Training Accuracy is 100.00 amd Testing accuracy is 96.00\n",
      "Confusion Matrix is \n",
      " [[10450   596]\n",
      " [  207 11010]]\n",
      "Classification Report is \n",
      "               precision    recall  f1-score   support\n",
      "\n",
      "           0       0.98      0.95      0.96     11046\n",
      "           1       0.95      0.98      0.96     11217\n",
      "\n",
      "    accuracy                           0.96     22263\n",
      "   macro avg       0.96      0.96      0.96     22263\n",
      "weighted avg       0.96      0.96      0.96     22263\n",
      "\n",
      "\n",
      "\n"
     ]
    }
   ],
   "source": [
    "# training_accuracy = np.empty(6)\n",
    "# test_accuracy = np.empty(6)\n",
    "\n",
    "# result = pd.DataFrame(columns=['training_accuracy', 'test_accuracy'])\n",
    "print(\"{} PERFORMANCE METRICS {}\".format('\\033[1m', '\\033[0m'))\n",
    "print(\"\\n\\n\")\n",
    "for clf in classifiers:\n",
    "    clf.fit(x_train, y_train)\n",
    "    training_accuracy = round(clf.score(x_train, y_train)*100)\n",
    "    y_pred= clf.predict(x_test)\n",
    "    test_accuracy = round(accuracy_score(y_test, y_pred)*100)\n",
    "    model_name = clf.__class__.__name__\n",
    "    print(\"Model: %s.\"%(model_name))\n",
    "    print(\"Training Accuracy is %.2f amd Testing accuracy is %.2f\"%(training_accuracy, test_accuracy))\n",
    "    cm = confusion_matrix(y_test, y_pred)\n",
    "    print(\"Confusion Matrix is \\n %s\"%(cm))\n",
    "    print(\"Classification Report is \\n %s\"%(classification_report(y_test, y_pred)))\n",
    "    print(\"\\n\")\n",
    "# result"
   ]
  },
  {
   "cell_type": "code",
   "execution_count": null,
   "id": "bfd46878",
   "metadata": {},
   "outputs": [],
   "source": []
  },
  {
   "cell_type": "markdown",
   "id": "62a64adf",
   "metadata": {},
   "source": [
    "<p>Herein, the problem is a classification problem, so we will consider Precision, Recall and the F1 score as they are better representative of performance in the case of imbalanced datasets.</p> <p> The performance based on the F1 score is baseline models are of the following order: </p>\n",
    "\n",
    "<p> <b> XGBoost == Random Forest >> Decision Tree >> Logistic Regression >> Support Vector </b> </p> \n",
    "\n",
    "Random Forest and XGBoost both seem pretty good so going ahead with testing them with the **KFold Cross Validation**."
   ]
  },
  {
   "cell_type": "code",
   "execution_count": null,
   "id": "eb761243",
   "metadata": {},
   "outputs": [],
   "source": []
  },
  {
   "cell_type": "markdown",
   "id": "304c4108",
   "metadata": {},
   "source": [
    "**Model Selection** \n",
    "<p>From the above results we see that most of the tree based models are performing pretty well .</p>"
   ]
  },
  {
   "cell_type": "markdown",
   "id": "0b7ffb8c",
   "metadata": {},
   "source": [
    "So going ahead with **Random Forest** and **XG Boost** as both seem to have pretty good scores or Precision, Recall and F1-Score which are more important when dataset is imbalanced in Binary Classification problems."
   ]
  },
  {
   "cell_type": "code",
   "execution_count": 194,
   "id": "582a4d26",
   "metadata": {},
   "outputs": [
    {
     "name": "stdout",
     "output_type": "stream",
     "text": [
      "[[10450   596]\n",
      " [  207 11010]]\n",
      "              precision    recall  f1-score   support\n",
      "\n",
      "           0       0.98      0.95      0.96     11046\n",
      "           1       0.95      0.98      0.96     11217\n",
      "\n",
      "    accuracy                           0.96     22263\n",
      "   macro avg       0.96      0.96      0.96     22263\n",
      "weighted avg       0.96      0.96      0.96     22263\n",
      "\n"
     ]
    }
   ],
   "source": [
    "# Generate the confusion matrix and classification report\n",
    "\n",
    "ypred = clf.predict(x_test)\n",
    "# Generate the confusion matrix and classification report\n",
    "print(confusion_matrix(y_test, ypred))\n",
    "print(classification_report(y_test, ypred))\n"
   ]
  },
  {
   "cell_type": "code",
   "execution_count": null,
   "id": "6fd9f366",
   "metadata": {},
   "outputs": [],
   "source": []
  },
  {
   "cell_type": "code",
   "execution_count": null,
   "id": "93c11795",
   "metadata": {},
   "outputs": [],
   "source": []
  },
  {
   "cell_type": "markdown",
   "id": "3cf6756f",
   "metadata": {},
   "source": [
    "### Stratified KFold Cross Validation"
   ]
  },
  {
   "cell_type": "markdown",
   "id": "ca7301d6",
   "metadata": {},
   "source": [
    "We cannot use <u>KFold Cross Validation</u> as is because the data is split into k-folds with a uniform probability distribution.\n",
    "\n",
    "When the distribution is severely skewed, it is likely that one or more folds will have few or no examples from the minority class. This means that some or perhaps many of the model evaluations will be misleading, as the model need only predict the majority class correctly. Thus proceeding with **Stratified KFold Cross Validation**"
   ]
  },
  {
   "cell_type": "code",
   "execution_count": 195,
   "id": "68b3da3c",
   "metadata": {},
   "outputs": [],
   "source": [
    "from sklearn.datasets import make_classification\n",
    "from sklearn.model_selection import StratifiedKFold\n",
    "from sklearn.model_selection import cross_validate\n",
    "from sklearn.metrics import make_scorer, accuracy_score, precision_score, recall_score, f1_score\n",
    "\n",
    "scoring = {'accuracy' : make_scorer(accuracy_score), \n",
    "           'precision' : make_scorer(precision_score),\n",
    "           'recall' : make_scorer(recall_score), \n",
    "           'f1_score' : make_scorer(f1_score)}\n",
    "\n",
    "skfold = StratifiedKFold(n_splits=5)\n",
    "\n",
    "xgboost_results = cross_validate(estimator=model1, X=X_train_res, y=y_train_res, cv=skfold, scoring=scoring)\n",
    "random_forest_results = cross_validate(estimator=model4, X=X_train_res, y=y_train_res, cv=skfold, scoring=scoring)"
   ]
  },
  {
   "cell_type": "code",
   "execution_count": 196,
   "id": "9d9109e3",
   "metadata": {},
   "outputs": [
    {
     "name": "stdout",
     "output_type": "stream",
     "text": [
      "\u001b[1m STRATIFIED KFOLD PERFORMANCE METRICS FOR XGBOOST. \u001b[0m\n",
      "Accuracy= 70.2966.\n",
      "Precision= 68.3437.\n",
      "Recall= 93.1896.\n",
      "F1 Score= 76.4144.\n",
      "\u001b[1m \n",
      " STRATIFIED KFOLD PERFORMANCE METRICS FOR RANDOM FOREST. \u001b[0m\n",
      "Accuracy= 77.1760.\n",
      "Precision= 71.1920.\n",
      "Recall= 97.7712.\n",
      "F1 Score= 81.7271.\n"
     ]
    }
   ],
   "source": [
    "# Printing performance metrics\n",
    "print(\"{} STRATIFIED KFOLD PERFORMANCE METRICS FOR XGBOOST. {}\".format('\\033[1m', '\\033[0m'))\n",
    "print(\"Accuracy= %.4f.\"%(np.mean(xgboost_results['test_accuracy'])*100.0))\n",
    "print(\"Precision= %.4f.\"%(np.mean(xgboost_results['test_precision'])*100.0))\n",
    "print(\"Recall= %.4f.\"%(np.mean(xgboost_results['test_recall'])*100.0))\n",
    "print(\"F1 Score= %.4f.\"%(np.mean(xgboost_results['test_f1_score'])*100.0))\n",
    "\n",
    "print(\"{} \\n STRATIFIED KFOLD PERFORMANCE METRICS FOR RANDOM FOREST. {}\".format('\\033[1m', '\\033[0m'))\n",
    "print(\"Accuracy= %.4f.\"%(np.mean(random_forest_results['test_accuracy'])*100.0))\n",
    "print(\"Precision= %.4f.\"%(np.mean(random_forest_results['test_precision'])*100.0))\n",
    "print(\"Recall= %.4f.\"%(np.mean(random_forest_results['test_recall'])*100.0))\n",
    "print(\"F1 Score= %.4f.\"%(np.mean(random_forest_results['test_f1_score'])*100.0))\n"
   ]
  },
  {
   "cell_type": "code",
   "execution_count": null,
   "id": "d8b5ea75",
   "metadata": {},
   "outputs": [],
   "source": []
  },
  {
   "cell_type": "markdown",
   "id": "1ebfdfdd",
   "metadata": {},
   "source": [
    "From the above, we note that Random Forest is better than XGBoost. So will be selecting it as our most apt algorithm. "
   ]
  },
  {
   "cell_type": "code",
   "execution_count": null,
   "id": "47cbf6a2",
   "metadata": {},
   "outputs": [],
   "source": []
  },
  {
   "cell_type": "markdown",
   "id": "2f683a13",
   "metadata": {},
   "source": [
    "#### Success Metric Achieved: 5-fold stratified cross validation with greater than 81% performance metric: "
   ]
  },
  {
   "cell_type": "markdown",
   "id": "8e545764",
   "metadata": {},
   "source": [
    "**Explanation:** We could solve this binary classification problem with highly imbalanced dataset with Random Forest. And the success metric we are choosing is Recall which is **97.72%** and also the F1-Score is 81.83% . The reason for selecting **recall** as our main performance metric is that in this case, **False Negatives** are more important than False Positives. Let us say we are calling the customers for a new term insurance from our model results. Rather than calling everyone, we will only call customers who are more likely to buy. We cannot afford to miss a person who was going to buy the term insurance, but our model predicted it as Not buying(False Negative). Plus, if a person is not interested in buying but our model classifies them as interested, there is no harm in calling them or not but should never miss an interested person. So, selecting the **model** with **highest recall** value."
   ]
  },
  {
   "cell_type": "code",
   "execution_count": null,
   "id": "a816e454",
   "metadata": {},
   "outputs": [],
   "source": []
  },
  {
   "cell_type": "code",
   "execution_count": null,
   "id": "e4445432",
   "metadata": {},
   "outputs": [],
   "source": []
  },
  {
   "cell_type": "markdown",
   "id": "7d6bd9b0",
   "metadata": {},
   "source": [
    "### SUMMARY:"
   ]
  },
  {
   "cell_type": "markdown",
   "id": "d8deebb9",
   "metadata": {},
   "source": [
    "### OBJECTIVE:"
   ]
  },
  {
   "cell_type": "markdown",
   "id": "be2cdb8b",
   "metadata": {},
   "source": [
    "<p style='text-align: justify;'> The purpose of the project was to find features that are important in improving the \n",
    "success rate for calls made to customers for the term loan product that was being sold. We are trying to decipher the success of the marketing campaign where term deposit option is being provided to users. Not only are we trying to predict based on above information whether a client will subscribe to a term deposit or not but also trying to find features which are most important in predicting as to which segment of customers the client should prioritize </p>"
   ]
  },
  {
   "cell_type": "markdown",
   "id": "03869ff0",
   "metadata": {},
   "source": [
    "**Objective:**"
   ]
  },
  {
   "cell_type": "markdown",
   "id": "e1b64cf1",
   "metadata": {},
   "source": [
    "### Goal 1:\n",
    "<p> Predicting a customer will opt to a term deposit or not. </p> "
   ]
  },
  {
   "cell_type": "code",
   "execution_count": null,
   "id": "5855ff88",
   "metadata": {},
   "outputs": [],
   "source": []
  },
  {
   "cell_type": "markdown",
   "id": "76b15bdc",
   "metadata": {},
   "source": [
    "**Solution Strategy:** Steps incorporated are as follows:"
   ]
  },
  {
   "cell_type": "markdown",
   "id": "ba59a27a",
   "metadata": {},
   "source": [
    "<p style='text-align: justify;'> a) <b><i> Data Cleaning and Preprocessing: </b></i> Firstly, the dataset was explored to understand the data better. It was seen that the dataset is large and it is moderately imbalanced. We went ahead with creating a model and it did generalize well. So did not undertake any sampling techniques. </p>\n",
    "\n",
    "<p> b) <b><i> ML Model Selection: </b></i> We proceeded to selection of a baseline Machine Learning model. </p>\n",
    "<p style='text-align: justify;'> The problem is a Supervised learning problem falling into the subset of binary classification. Such problems can be solved with the help of a number of ML models like Logistic Regression, Support Vector Machine, Decision tree, Random Forest, XGBoost. etc. </p>\n",
    "<p style='text-align: justify;'> And thus, all above listed models were tried without explicit hyperparameters set as we are initially looking for a baseline model which gives us a good accuracy score. This can later be adjusted through hyperparameter tuning to increase the accuracy score, and thus helping us in finding the optimal learning algorithm. </p>  \n",
    "\n",
    "In our specific usecase, we are going for the performance metric as **Recall** rather than accuracy because  **False Negatives** are more important than False Positives as explained earlier for the Positive class. \n",
    "Let us say we are calling the customers for a new term insurance from our model results. Rather than calling everyone, we will only call customers who are more likely to buy. We cannot afford to miss a person who was going to buy the term insurance, but our model predicted it as Not buying(False Negative). So, selecting the **model** with **highest recall** value for the positive class is more important.\n",
    "\n",
    "Algorithms Tried with their **recall** values for positive class:\n",
    "1) LogisticRegression\t    79% \t\n",
    "2) XGBClassifier\t        96%\t\n",
    "3) SVC              \t    91%\t\n",
    "4) DecisionTreeClassifier\t94%\t\n",
    "5) RandomForestClassifier\t96%\t\n",
    "\n",
    "Here we found that all the models **Random Forest** and **XGBoost** both seem pretty good so tested them with the Stratified KFold Cross Validation. \n",
    "\n",
    "Finally, after **Stratified KFold cross validation**, it was found that **Random Forest** works best as it has highest Recall **97.77%** value with decent precision 71.19% and very good F1-Score 81.72% as well."
   ]
  },
  {
   "cell_type": "code",
   "execution_count": null,
   "id": "2d9569cf",
   "metadata": {},
   "outputs": [],
   "source": []
  },
  {
   "cell_type": "markdown",
   "id": "99d13d82",
   "metadata": {},
   "source": [
    "### Bonus(es)\n"
   ]
  },
  {
   "cell_type": "markdown",
   "id": "0556df1a",
   "metadata": {},
   "source": [
    "### Goal 2:\n",
    "<p> a) What makes the customers buy? Tell us which feature we should be focusing more on.</p>"
   ]
  },
  {
   "cell_type": "markdown",
   "id": "471ce671",
   "metadata": {},
   "source": [
    "**Solution**:"
   ]
  },
  {
   "cell_type": "markdown",
   "id": "7c4d951e",
   "metadata": {},
   "source": [
    "a) **Feature Selection**"
   ]
  },
  {
   "cell_type": "markdown",
   "id": "79a2aaa2",
   "metadata": {},
   "source": [
    "It can be done by finding **feature importance**. Feature importance is the technique used to assess the significance or contribution of each feature in the model's decision-making process. It helps in understanding which features are the most influential in making predictions and can provide insights into our model.\n",
    "\n",
    "We have a great fitting **Random Forest model with 97.77% recall and F1-Score as 81.72%** after Stratified KFold Validation. Feature importance for a random forest can be found based on the decrease in impurity (usually Gini impurity for classification or mean squared error for regression) that each feature causes when used in a tree node . This is built-in SkLearn so will be leveraging that. "
   ]
  },
  {
   "cell_type": "code",
   "execution_count": null,
   "id": "890d4c4d",
   "metadata": {},
   "outputs": [],
   "source": []
  },
  {
   "cell_type": "code",
   "execution_count": 208,
   "id": "8252696b",
   "metadata": {},
   "outputs": [],
   "source": [
    "# In our case model4 is the Random Forest so going ahead with that.\n",
    "feature_imp = model4.feature_importances_\n",
    "feature_imp_df = pd.DataFrame({'Feature': X_train_res.columns, 'Importance': feature_imp})\n",
    "feature_imp_df = feature_imp_df.sort_values(by='Importance', ascending=False)"
   ]
  },
  {
   "cell_type": "code",
   "execution_count": 209,
   "id": "1802fefa",
   "metadata": {},
   "outputs": [
    {
     "data": {
      "image/png": "[encoded data removed]",
      "text/plain": [
       "<Figure size 1000x600 with 1 Axes>"
      ]
     },
     "metadata": {},
     "output_type": "display_data"
    }
   ],
   "source": [
    "plt.figure(figsize=(10, 6))\n",
    "sns.barplot(x='Importance', y='Feature', data=feature_imp_df)\n",
    "plt.title('Feature Importance for Random Forest')\n",
    "plt.xlabel('Importance')\n",
    "plt.ylabel('Feature')\n",
    "plt.show()"
   ]
  },
  {
   "cell_type": "markdown",
   "id": "598d6f53",
   "metadata": {},
   "source": [
    "Refer above graph as 1.1"
   ]
  },
  {
   "cell_type": "code",
   "execution_count": null,
   "id": "44fdebb9",
   "metadata": {},
   "outputs": [],
   "source": []
  },
  {
   "cell_type": "markdown",
   "id": "8e0c2be4",
   "metadata": {},
   "source": [
    "Referring to Graph 1.1, \n",
    "we can see that the **Most important features** of above dataset are:\n",
    "1) **duration** - last contact duration, in seconds (numeric)\n",
    "2) **campaign** - number of contacts performed during this campaign and for this client (numeric)\n",
    "3) **month** - last contact month of year (categorical)\n",
    "4) **day** - last contact day of month (categorical)\n",
    "5) **balance** - average yearly balance (numeric)\n",
    "6) **age** - age of customer (numeric)\n",
    "7) **job** - those who have a job (categorical)\n",
    "8) **education** - education attained (categorical)\n",
    "9) **housing** - has a housing loan (binary)"
   ]
  },
  {
   "cell_type": "code",
   "execution_count": null,
   "id": "ef0d2650",
   "metadata": {},
   "outputs": [],
   "source": []
  },
  {
   "cell_type": "code",
   "execution_count": null,
   "id": "b80087fe",
   "metadata": {},
   "outputs": [],
   "source": []
  },
  {
   "cell_type": "markdown",
   "id": "5f99dd35",
   "metadata": {},
   "source": [
    "### Goal 2:\n",
    "<p> b) We are also interested in finding customers who are more likely to buy the investment product. Determine the segment(s) of customers our client should prioritize. </p>"
   ]
  },
  {
   "cell_type": "markdown",
   "id": "8db18445",
   "metadata": {},
   "source": [
    "For **Segment of customers selection** , we will go ahead with two approaches, one for numeric features and other for categorical features. Starting with **numeric features**: "
   ]
  },
  {
   "cell_type": "markdown",
   "id": "36796109",
   "metadata": {},
   "source": [
    "### K-Means Clustering:"
   ]
  },
  {
   "cell_type": "markdown",
   "id": "66b1f458",
   "metadata": {},
   "source": [
    "For the numeric features, we will be using the approach of *clustering*. It is a technique that assists in classifying similar customers into the same segment.Here, for the numeric features, we will be using K-Means Clustering. K-Means clustering is an unsupervised machine learning algorithm that divides the given data into the given number of clusters. Here, the “K” is the given number of predefined clusters, that need to be created.\n",
    "\n",
    "It is a centroid based algorithm in which each cluster is associated with a centroid. The main idea is to reduce the distance between the data points and their respective cluster centroid."
   ]
  },
  {
   "cell_type": "code",
   "execution_count": 230,
   "id": "c9b6a3f4",
   "metadata": {},
   "outputs": [
    {
     "data": {
      "text/html": [
       "<div>\n",
       "<style scoped>\n",
       "    .dataframe tbody tr th:only-of-type {\n",
       "        vertical-align: middle;\n",
       "    }\n",
       "\n",
       "    .dataframe tbody tr th {\n",
       "        vertical-align: top;\n",
       "    }\n",
       "\n",
       "    .dataframe thead th {\n",
       "        text-align: right;\n",
       "    }\n",
       "</style>\n",
       "<table border=\"1\" class=\"dataframe\">\n",
       "  <thead>\n",
       "    <tr style=\"text-align: right;\">\n",
       "      <th></th>\n",
       "      <th>age</th>\n",
       "      <th>job</th>\n",
       "      <th>marital</th>\n",
       "      <th>education</th>\n",
       "      <th>default</th>\n",
       "      <th>balance</th>\n",
       "      <th>housing</th>\n",
       "      <th>loan</th>\n",
       "      <th>contact</th>\n",
       "      <th>day</th>\n",
       "      <th>month</th>\n",
       "      <th>duration</th>\n",
       "      <th>campaign</th>\n",
       "      <th>y</th>\n",
       "    </tr>\n",
       "  </thead>\n",
       "  <tbody>\n",
       "    <tr>\n",
       "      <th>count</th>\n",
       "      <td>40000.000000</td>\n",
       "      <td>40000</td>\n",
       "      <td>40000</td>\n",
       "      <td>40000</td>\n",
       "      <td>40000</td>\n",
       "      <td>40000.000000</td>\n",
       "      <td>40000</td>\n",
       "      <td>40000</td>\n",
       "      <td>40000</td>\n",
       "      <td>40000.000000</td>\n",
       "      <td>40000</td>\n",
       "      <td>40000.000000</td>\n",
       "      <td>40000.000000</td>\n",
       "      <td>40000</td>\n",
       "    </tr>\n",
       "    <tr>\n",
       "      <th>unique</th>\n",
       "      <td>NaN</td>\n",
       "      <td>12</td>\n",
       "      <td>3</td>\n",
       "      <td>4</td>\n",
       "      <td>2</td>\n",
       "      <td>NaN</td>\n",
       "      <td>2</td>\n",
       "      <td>2</td>\n",
       "      <td>3</td>\n",
       "      <td>NaN</td>\n",
       "      <td>11</td>\n",
       "      <td>NaN</td>\n",
       "      <td>NaN</td>\n",
       "      <td>2</td>\n",
       "    </tr>\n",
       "    <tr>\n",
       "      <th>top</th>\n",
       "      <td>NaN</td>\n",
       "      <td>blue-collar</td>\n",
       "      <td>married</td>\n",
       "      <td>secondary</td>\n",
       "      <td>no</td>\n",
       "      <td>NaN</td>\n",
       "      <td>yes</td>\n",
       "      <td>no</td>\n",
       "      <td>cellular</td>\n",
       "      <td>NaN</td>\n",
       "      <td>may</td>\n",
       "      <td>NaN</td>\n",
       "      <td>NaN</td>\n",
       "      <td>no</td>\n",
       "    </tr>\n",
       "    <tr>\n",
       "      <th>freq</th>\n",
       "      <td>NaN</td>\n",
       "      <td>9383</td>\n",
       "      <td>24386</td>\n",
       "      <td>20993</td>\n",
       "      <td>39191</td>\n",
       "      <td>NaN</td>\n",
       "      <td>24031</td>\n",
       "      <td>33070</td>\n",
       "      <td>24914</td>\n",
       "      <td>NaN</td>\n",
       "      <td>13532</td>\n",
       "      <td>NaN</td>\n",
       "      <td>NaN</td>\n",
       "      <td>37104</td>\n",
       "    </tr>\n",
       "    <tr>\n",
       "      <th>mean</th>\n",
       "      <td>40.544600</td>\n",
       "      <td>NaN</td>\n",
       "      <td>NaN</td>\n",
       "      <td>NaN</td>\n",
       "      <td>NaN</td>\n",
       "      <td>1274.277550</td>\n",
       "      <td>NaN</td>\n",
       "      <td>NaN</td>\n",
       "      <td>NaN</td>\n",
       "      <td>16.017225</td>\n",
       "      <td>NaN</td>\n",
       "      <td>254.824300</td>\n",
       "      <td>2.882175</td>\n",
       "      <td>NaN</td>\n",
       "    </tr>\n",
       "    <tr>\n",
       "      <th>std</th>\n",
       "      <td>9.641776</td>\n",
       "      <td>NaN</td>\n",
       "      <td>NaN</td>\n",
       "      <td>NaN</td>\n",
       "      <td>NaN</td>\n",
       "      <td>2903.769716</td>\n",
       "      <td>NaN</td>\n",
       "      <td>NaN</td>\n",
       "      <td>NaN</td>\n",
       "      <td>8.278127</td>\n",
       "      <td>NaN</td>\n",
       "      <td>259.366498</td>\n",
       "      <td>3.239051</td>\n",
       "      <td>NaN</td>\n",
       "    </tr>\n",
       "    <tr>\n",
       "      <th>min</th>\n",
       "      <td>19.000000</td>\n",
       "      <td>NaN</td>\n",
       "      <td>NaN</td>\n",
       "      <td>NaN</td>\n",
       "      <td>NaN</td>\n",
       "      <td>-8019.000000</td>\n",
       "      <td>NaN</td>\n",
       "      <td>NaN</td>\n",
       "      <td>NaN</td>\n",
       "      <td>1.000000</td>\n",
       "      <td>NaN</td>\n",
       "      <td>0.000000</td>\n",
       "      <td>1.000000</td>\n",
       "      <td>NaN</td>\n",
       "    </tr>\n",
       "    <tr>\n",
       "      <th>25%</th>\n",
       "      <td>33.000000</td>\n",
       "      <td>NaN</td>\n",
       "      <td>NaN</td>\n",
       "      <td>NaN</td>\n",
       "      <td>NaN</td>\n",
       "      <td>54.000000</td>\n",
       "      <td>NaN</td>\n",
       "      <td>NaN</td>\n",
       "      <td>NaN</td>\n",
       "      <td>8.000000</td>\n",
       "      <td>NaN</td>\n",
       "      <td>100.000000</td>\n",
       "      <td>1.000000</td>\n",
       "      <td>NaN</td>\n",
       "    </tr>\n",
       "    <tr>\n",
       "      <th>50%</th>\n",
       "      <td>39.000000</td>\n",
       "      <td>NaN</td>\n",
       "      <td>NaN</td>\n",
       "      <td>NaN</td>\n",
       "      <td>NaN</td>\n",
       "      <td>407.000000</td>\n",
       "      <td>NaN</td>\n",
       "      <td>NaN</td>\n",
       "      <td>NaN</td>\n",
       "      <td>17.000000</td>\n",
       "      <td>NaN</td>\n",
       "      <td>175.000000</td>\n",
       "      <td>2.000000</td>\n",
       "      <td>NaN</td>\n",
       "    </tr>\n",
       "    <tr>\n",
       "      <th>75%</th>\n",
       "      <td>48.000000</td>\n",
       "      <td>NaN</td>\n",
       "      <td>NaN</td>\n",
       "      <td>NaN</td>\n",
       "      <td>NaN</td>\n",
       "      <td>1319.000000</td>\n",
       "      <td>NaN</td>\n",
       "      <td>NaN</td>\n",
       "      <td>NaN</td>\n",
       "      <td>21.000000</td>\n",
       "      <td>NaN</td>\n",
       "      <td>313.000000</td>\n",
       "      <td>3.000000</td>\n",
       "      <td>NaN</td>\n",
       "    </tr>\n",
       "    <tr>\n",
       "      <th>max</th>\n",
       "      <td>95.000000</td>\n",
       "      <td>NaN</td>\n",
       "      <td>NaN</td>\n",
       "      <td>NaN</td>\n",
       "      <td>NaN</td>\n",
       "      <td>102127.000000</td>\n",
       "      <td>NaN</td>\n",
       "      <td>NaN</td>\n",
       "      <td>NaN</td>\n",
       "      <td>31.000000</td>\n",
       "      <td>NaN</td>\n",
       "      <td>4918.000000</td>\n",
       "      <td>63.000000</td>\n",
       "      <td>NaN</td>\n",
       "    </tr>\n",
       "  </tbody>\n",
       "</table>\n",
       "</div>"
      ],
      "text/plain": [
       "                 age          job  marital  education default        balance  \\\n",
       "count   40000.000000        40000    40000      40000   40000   40000.000000   \n",
       "unique           NaN           12        3          4       2            NaN   \n",
       "top              NaN  blue-collar  married  secondary      no            NaN   \n",
       "freq             NaN         9383    24386      20993   39191            NaN   \n",
       "mean       40.544600          NaN      NaN        NaN     NaN    1274.277550   \n",
       "std         9.641776          NaN      NaN        NaN     NaN    2903.769716   \n",
       "min        19.000000          NaN      NaN        NaN     NaN   -8019.000000   \n",
       "25%        33.000000          NaN      NaN        NaN     NaN      54.000000   \n",
       "50%        39.000000          NaN      NaN        NaN     NaN     407.000000   \n",
       "75%        48.000000          NaN      NaN        NaN     NaN    1319.000000   \n",
       "max        95.000000          NaN      NaN        NaN     NaN  102127.000000   \n",
       "\n",
       "       housing   loan   contact           day  month      duration  \\\n",
       "count    40000  40000     40000  40000.000000  40000  40000.000000   \n",
       "unique       2      2         3           NaN     11           NaN   \n",
       "top        yes     no  cellular           NaN    may           NaN   \n",
       "freq     24031  33070     24914           NaN  13532           NaN   \n",
       "mean       NaN    NaN       NaN     16.017225    NaN    254.824300   \n",
       "std        NaN    NaN       NaN      8.278127    NaN    259.366498   \n",
       "min        NaN    NaN       NaN      1.000000    NaN      0.000000   \n",
       "25%        NaN    NaN       NaN      8.000000    NaN    100.000000   \n",
       "50%        NaN    NaN       NaN     17.000000    NaN    175.000000   \n",
       "75%        NaN    NaN       NaN     21.000000    NaN    313.000000   \n",
       "max        NaN    NaN       NaN     31.000000    NaN   4918.000000   \n",
       "\n",
       "            campaign      y  \n",
       "count   40000.000000  40000  \n",
       "unique           NaN      2  \n",
       "top              NaN     no  \n",
       "freq             NaN  37104  \n",
       "mean        2.882175    NaN  \n",
       "std         3.239051    NaN  \n",
       "min         1.000000    NaN  \n",
       "25%         1.000000    NaN  \n",
       "50%         2.000000    NaN  \n",
       "75%         3.000000    NaN  \n",
       "max        63.000000    NaN  "
      ]
     },
     "execution_count": 230,
     "metadata": {},
     "output_type": "execute_result"
    }
   ],
   "source": [
    "df.describe(include = 'all')"
   ]
  },
  {
   "cell_type": "code",
   "execution_count": null,
   "id": "0587712a",
   "metadata": {},
   "outputs": [],
   "source": []
  },
  {
   "cell_type": "code",
   "execution_count": 210,
   "id": "5194be03",
   "metadata": {},
   "outputs": [],
   "source": [
    "# Applying for duration, campaign, balance and age."
   ]
  },
  {
   "cell_type": "code",
   "execution_count": 219,
   "id": "b90c28e9",
   "metadata": {},
   "outputs": [
    {
     "data": {
      "image/png": "[encoded data removed]",
      "text/plain": [
       "<Figure size 1000x700 with 4 Axes>"
      ]
     },
     "metadata": {},
     "output_type": "display_data"
    }
   ],
   "source": [
    "plt.figure(1, figsize=(10,7))\n",
    "n=0\n",
    "for x in ['duration', 'balance', 'campaign', 'age']:\n",
    "    n += 1\n",
    "    plt.subplot(1, 4, n)\n",
    "    sns.set(style=\"whitegrid\")\n",
    "    plt.subplots_adjust(hspace=0.5, wspace=0.5)\n",
    "    sns.violinplot(x = x, y = 'y', data = df)\n",
    "    plt.ylabel('Term Loan Opt In' if n == 1 else '')\n",
    "    plt.title('Violin Plot')\n",
    "plt.show()\n"
   ]
  },
  {
   "cell_type": "code",
   "execution_count": null,
   "id": "3bb2850d",
   "metadata": {},
   "outputs": [],
   "source": []
  },
  {
   "cell_type": "markdown",
   "id": "b447bb40",
   "metadata": {},
   "source": [
    "### Exploring relationships of these selected features with our target variable 'y'."
   ]
  },
  {
   "cell_type": "markdown",
   "id": "ff4851c4",
   "metadata": {},
   "source": [
    "- Starting with **duration** feature:"
   ]
  },
  {
   "cell_type": "code",
   "execution_count": null,
   "id": "7384cac2",
   "metadata": {},
   "outputs": [],
   "source": []
  },
  {
   "cell_type": "code",
   "execution_count": 232,
   "id": "1f5182c3",
   "metadata": {},
   "outputs": [
    {
     "data": {
      "image/png": "[encoded data removed]",
      "text/plain": [
       "<Figure size 1500x600 with 1 Axes>"
      ]
     },
     "metadata": {},
     "output_type": "display_data"
    }
   ],
   "source": [
    "duration_0_500 = df.duration[(df.duration >= 0) & (df.duration <= 500)]\n",
    "duration_501_1000 = df.duration[(df.duration >= 501) & (df.duration <= 1000)]\n",
    "duration_1001_1500 = df.duration[(df.duration >= 1001) & (df.duration <= 1500)]\n",
    "duration_1501_2000 = df.duration[(df.duration >= 1501) & (df.duration <= 2000)]\n",
    "duration_2001_2500 = df.duration[(df.duration >= 2001) & (df.duration <= 2500)]\n",
    "duration_2501_3000 = df.duration[(df.duration >= 2501) & (df.duration <= 3000)]\n",
    "duration_3001_3500 = df.duration[(df.duration >= 3001) & (df.duration <= 3500)]\n",
    "duration_3501_4000 = df.duration[(df.duration >= 3501) & (df.duration <= 4000)]\n",
    "duration_4001_above = df.duration[(df.duration >= 4001)]\n",
    "\n",
    "durationx = [\"0-500\",\"501-1000\",\"1001-1500\",\"1501-2000\",\"2001-2500\",\"2501-3000\",\"3001-3500\",\"3501-4000\",\"4001+\"]\n",
    "durationy = [len(duration_0_500.values),len(duration_501_1000.values),len(duration_1001_1500.values),\n",
    "             len(duration_1501_2000.values),len(duration_2001_2500.values),len(duration_2501_3000.values),\n",
    "             len(duration_3001_3500.values),len(duration_3501_4000.values),len(duration_4001_above.values)]\n",
    "\n",
    "plt.figure(figsize=(15,6))\n",
    "sns.barplot(x=durationx, y=durationy, palette=\"mako\")\n",
    "plt.title(\"Term Loan opt in entries and Durations\")\n",
    "plt.xlabel(\"Durations\")\n",
    "plt.ylabel(\"Termpt in return\")\n",
    "plt.show()"
   ]
  },
  {
   "cell_type": "markdown",
   "id": "434d1b5d",
   "metadata": {},
   "source": [
    "We can see that the last contact duration for "
   ]
  },
  {
   "cell_type": "code",
   "execution_count": null,
   "id": "45afa778",
   "metadata": {},
   "outputs": [],
   "source": []
  },
  {
   "cell_type": "code",
   "execution_count": null,
   "id": "ba14d24e",
   "metadata": {},
   "outputs": [],
   "source": []
  },
  {
   "cell_type": "markdown",
   "id": "3ac50ba1",
   "metadata": {},
   "source": [
    "b) The **Segments of Customers** we should prioritize are:"
   ]
  },
  {
   "cell_type": "markdown",
   "id": "503b9186",
   "metadata": {},
   "source": [
    "1) the ones for whom the **calls** were contacted **more** often and for **longer duration**\n",
    "2) the customers who already **have an existing loan** (either a housing loan or another personal loan)\n",
    "3) the marital status is \n",
    "    1) **married** primarily. \n",
    "    2) then **single** (but not divorced)\n",
    "4) the education \n",
    "     1) the customers who have **Secondary education** are most likely to opt for a term deposit\n",
    "     2) the customers who have **Tertiary education** are second most likely to subscribe to term deposit\n",
    "5) balance ,ie, the **yearly balance** should be more \n",
    "6) the job\n",
    "    1) Customers in Management, technicians, blue-collar and admin jobs are most likely to go for opting for a term deposit.\n",
    "    \n",
    "<i>Thus, these above segments can be prioritized for maximum successful sales of the investment product. </i>"
   ]
  },
  {
   "cell_type": "code",
   "execution_count": null,
   "id": "439fd21f",
   "metadata": {},
   "outputs": [],
   "source": []
  }
 ],
 "metadata": {
  "kernelspec": {
   "display_name": "Python 3 (ipykernel)",
   "language": "python",
   "name": "python3"
  },
  "language_info": {
   "codemirror_mode": {
    "name": "ipython",
    "version": 3
   },
   "file_extension": ".py",
   "mimetype": "text/x-python",
   "name": "python",
   "nbconvert_exporter": "python",
   "pygments_lexer": "ipython3",
   "version": "3.9.17"
  }
 },
 "nbformat": 4,
 "nbformat_minor": 5
}
